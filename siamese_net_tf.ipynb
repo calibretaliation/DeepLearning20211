{
  "nbformat": 4,
  "nbformat_minor": 0,
  "metadata": {
    "colab": {
      "name": "siamese_net_tf.ipynb",
      "provenance": [],
      "include_colab_link": true
    },
    "kernelspec": {
      "name": "python3",
      "display_name": "Python 3"
    },
    "language_info": {
      "name": "python"
    },
    "accelerator": "GPU"
  },
  "cells": [
    {
      "cell_type": "markdown",
      "metadata": {
        "id": "view-in-github",
        "colab_type": "text"
      },
      "source": [
        "<a href=\"https://colab.research.google.com/github/calibretaliation/DeepLearning20211/blob/main/siamese_net_tf.ipynb\" target=\"_parent\"><img src=\"https://colab.research.google.com/assets/colab-badge.svg\" alt=\"Open In Colab\"/></a>"
      ]
    },
    {
      "cell_type": "code",
      "source": [
        "from google.colab import drive\n",
        "drive.mount('/content/drive')"
      ],
      "metadata": {
        "colab": {
          "base_uri": "https://localhost:8080/"
        },
        "id": "NijPZmQCTMkj",
        "outputId": "0e677f82-7e02-4d3e-a6a8-2daad22bb55e"
      },
      "execution_count": 31,
      "outputs": [
        {
          "output_type": "stream",
          "name": "stdout",
          "text": [
            "Mounted at /content/drive\n"
          ]
        }
      ]
    },
    {
      "cell_type": "code",
      "execution_count": 4,
      "metadata": {
        "colab": {
          "base_uri": "https://localhost:8080/"
        },
        "id": "istTBFbsNPcR",
        "outputId": "bbe61c89-140d-4c97-fb51-b798e8a73ab4"
      },
      "outputs": [
        {
          "output_type": "stream",
          "name": "stdout",
          "text": [
            "Cloning into 'DeepLearning20211'...\n",
            "remote: Enumerating objects: 32706, done.\u001b[K\n",
            "remote: Counting objects: 100% (240/240), done.\u001b[K\n",
            "remote: Compressing objects: 100% (240/240), done.\u001b[K\n",
            "remote: Total 32706 (delta 144), reused 0 (delta 0), pack-reused 32466\u001b[K\n",
            "Receiving objects: 100% (32706/32706), 1.68 GiB | 32.38 MiB/s, done.\n",
            "Resolving deltas: 100% (202/202), done.\n",
            "Checking out files: 100% (32430/32430), done.\n"
          ]
        }
      ],
      "source": [
        "!git clone https://github.com/calibretaliation/DeepLearning20211.git"
      ]
    },
    {
      "cell_type": "markdown",
      "source": [
        "## Import"
      ],
      "metadata": {
        "id": "CeDeB7H-A5Oj"
      }
    },
    {
      "cell_type": "code",
      "source": [
        "# !pip install git+https://github.com/tensorflow/docs\n",
        "!pip install -q -U tensorflow-addons"
      ],
      "metadata": {
        "id": "cUOIsVncQGib"
      },
      "execution_count": 1,
      "outputs": []
    },
    {
      "cell_type": "code",
      "source": [
        "#@title Import\n",
        "\n",
        "import numpy as np\n",
        "import pandas as pd\n",
        "import matplotlib.pyplot as plt\n",
        "from matplotlib import gridspec\n",
        "from matplotlib import cm\n",
        "import math\n",
        "import random\n",
        "\n",
        "import os\n",
        "import pickle\n",
        "\n",
        "import tensorflow as tf\n",
        "from pathlib import Path\n",
        "from tensorflow.keras import applications, layers, losses, optimizers, metrics, Model, callbacks\n",
        "from tensorflow.keras.applications import resnet, mobilenet_v3\n",
        "from tensorflow.keras.preprocessing import image\n",
        "from tensorflow.keras.optimizers import SGD\n",
        "\n",
        "import tensorflow_addons as tfa\n",
        "from sklearn.preprocessing import LabelEncoder\n",
        "from sklearn.decomposition import PCA\n",
        "from sklearn.neighbors import KNeighborsClassifier\n",
        "from sklearn.metrics import top_k_accuracy_score\n",
        "import seaborn as sns\n",
        "\n",
        "from pathlib import Path\n",
        "\n",
        "# import tensorflow_docs as tfdocs\n",
        "# import tensorflow_docs.modeling\n",
        "# import tensorflow_docs.plots\n",
        "\n",
        "\n",
        "def set_seed(seed=42):\n",
        "    random.seed(seed)\n",
        "    np.random.seed(seed)\n",
        "    tf.random.set_seed(seed)\n",
        "    os.environ['PYTHONHASHSEED'] = str(seed)"
      ],
      "metadata": {
        "id": "WJyjcOIXQTWO"
      },
      "execution_count": 2,
      "outputs": []
    },
    {
      "cell_type": "markdown",
      "source": [
        "## Prepare dataset"
      ],
      "metadata": {
        "id": "G2uFtS8S6kM2"
      }
    },
    {
      "cell_type": "code",
      "source": [
        "#@title Load CSV\n",
        "\n",
        "train_df = pd.read_csv('DeepLearning20211/data/train.csv')\n",
        "test_df = pd.read_csv('DeepLearning20211/data/test.csv')\n",
        "\n",
        "train_img_dir = Path('DeepLearning20211/data/train_images')\n",
        "test_img_dir = Path('DeepLearning20211/data/test_images/')\n",
        "\n",
        "# Drop images with duplicated p-hash value \n",
        "# train_df = train_df.drop_duplicates(subset=['image_phash']).reset_index(drop=True)"
      ],
      "metadata": {
        "id": "0NZlAgwOQj9q",
        "cellView": "form"
      },
      "execution_count": 5,
      "outputs": []
    },
    {
      "cell_type": "code",
      "source": [
        "#@title Plot class cardinality distribution\n",
        "\n",
        "# calculate number of images in each class\n",
        "label_count = train_df['label_group'].value_counts()\n",
        "\n",
        "plt.figure(figsize=(20, 6))\n",
        "label_count.value_counts().plot.bar()\n",
        "plt.xlabel('Class cardinality')\n",
        "plt.ylabel('Number of class')\n",
        "plt.title('Shopee Class cardinality distribution')\n",
        "plt.show()"
      ],
      "metadata": {
        "colab": {
          "base_uri": "https://localhost:8080/",
          "height": 407
        },
        "cellView": "form",
        "id": "w8c7i4HsoEeI",
        "outputId": "2f162cb0-6691-45e1-f2c7-99c5f39f5f0b"
      },
      "execution_count": 6,
      "outputs": [
        {
          "output_type": "display_data",
          "data": {
            "image/png": "[encoded data removed]",
            "text/plain": [
              "<Figure size 1440x432 with 1 Axes>"
            ]
          },
          "metadata": {
            "needs_background": "light"
          }
        }
      ]
    },
    {
      "cell_type": "code",
      "source": [
        "#@title Create validation set\n",
        "\n",
        "train_df['index'] = train_df.index\n",
        "val_df = train_df.sample(frac=1, random_state=14).groupby('label_group').nth(0)\n",
        "val_df['label_group'] = val_df.index\n",
        "val_df = val_df.set_index('index')\n",
        "train_df = train_df.drop('index', axis=1)\n",
        "train_df = train_df.drop(index=val_df.index).reset_index(drop=True)\n",
        "val_df = val_df.reset_index(drop=True)"
      ],
      "metadata": {
        "id": "A8qZubQ5YHRv",
        "cellView": "form"
      },
      "execution_count": 7,
      "outputs": []
    },
    {
      "cell_type": "code",
      "source": [
        "# import shutil\n",
        "# shutil.rmtree(str(temp_dir), ignore_errors=True)"
      ],
      "metadata": {
        "id": "zkU51fPtt8h8"
      },
      "execution_count": null,
      "outputs": []
    },
    {
      "cell_type": "markdown",
      "source": [
        "# hmmm"
      ],
      "metadata": {
        "id": "P9ucn984SDkv"
      }
    },
    {
      "cell_type": "code",
      "source": [
        "label_encoder = LabelEncoder()\n",
        "label_encoder.fit(train_df['label_group'])"
      ],
      "metadata": {
        "colab": {
          "base_uri": "https://localhost:8080/"
        },
        "id": "pK6tAinAn2YQ",
        "outputId": "b44740c9-1b2d-4055-dbd7-5f2c37f4717d"
      },
      "execution_count": 10,
      "outputs": [
        {
          "output_type": "execute_result",
          "data": {
            "text/plain": [
              "LabelEncoder()"
            ]
          },
          "metadata": {},
          "execution_count": 10
        }
      ]
    },
    {
      "cell_type": "code",
      "source": [
        "batch_size = 64\n",
        "\n",
        "data_augmentation = tf.keras.Sequential(\n",
        "    [\n",
        "     layers.RandomRotation(0.5),\n",
        "     layers.RandomContrast(0.5),\n",
        "     layers.RandomZoom((-0.2, 0.2)),\n",
        "     layers.RandomTranslation(0.14, 0.14),\n",
        "     ]\n",
        ")\n",
        "\n",
        "def filepath_to_img(filepath):\n",
        "    img_string = tf.io.read_file(filepath)\n",
        "    img = tf.image.decode_jpeg(img_string)\n",
        "\n",
        "    return img\n",
        "\n",
        "def configure_dataset(ds, mode, fine_tune=False):\n",
        "    assert mode == 'training' or mode == 'validation', \"mode should be 'training' or 'validation'\" \n",
        "    \n",
        "    ds = ds.map(lambda filepath, label: (filepath_to_img(filepath), label), \n",
        "                num_parallel_calls=tf.data.AUTOTUNE)\n",
        "    \n",
        "    ds = ds.map(lambda img, label: (layers.Resizing(224, 224, crop_to_aspect_ratio=True)(img), label),\n",
        "                num_parallel_calls=tf.data.AUTOTUNE)\n",
        "    \n",
        "    if not fine_tune:               # we'll use some available preprocessing in keras model\n",
        "        ds = ds.map(lambda img, label: (layers.Rescaling(1./255, offset=-1)(img), label),\n",
        "                    num_parallel_calls=tf.data.AUTOTUNE)\n",
        "\n",
        "    ds = ds.map(lambda img, label: (data_augmentation(img), label), \n",
        "                num_parallel_calls=tf.data.AUTOTUNE)\n",
        "    \n",
        "    ds = ds.prefetch(buffer_size=2048)\n",
        "    ds = ds.batch(batch_size)\n",
        "    \n",
        "    return ds"
      ],
      "metadata": {
        "id": "pAnPUmVTSG6M"
      },
      "execution_count": 11,
      "outputs": []
    },
    {
      "cell_type": "code",
      "source": [
        "#@title Define embedding model (Run only once)\n",
        "base_model = applications.MobileNetV3Large(weights='imagenet', input_shape=(224, 224, 3), include_top=False, include_preprocessing=True)\n",
        "\n",
        "output = layers.Flatten()(base_model.output)\n",
        "output = layers.Lambda(lambda x: tf.math.l2_normalize(x, axis=1))(output)\n",
        "\n",
        "embedding = Model(base_model.input, output, name='Embedding')"
      ],
      "metadata": {
        "colab": {
          "base_uri": "https://localhost:8080/"
        },
        "id": "IWdGJUGlXDqr",
        "outputId": "fc414b5f-72af-4bca-f72a-e0f6890e838c",
        "cellView": "form"
      },
      "execution_count": 12,
      "outputs": [
        {
          "output_type": "stream",
          "name": "stdout",
          "text": [
            "Downloading data from https://storage.googleapis.com/tensorflow/keras-applications/mobilenet_v3/weights_mobilenet_v3_large_224_1.0_float_no_top.h5\n",
            "17612800/17605208 [==============================] - 0s 0us/step\n",
            "17620992/17605208 [==============================] - 0s 0us/step\n"
          ]
        }
      ]
    },
    {
      "cell_type": "code",
      "source": [
        "embedding.summary()"
      ],
      "metadata": {
        "id": "caQmh6jjXDq4"
      },
      "execution_count": null,
      "outputs": []
    },
    {
      "cell_type": "code",
      "source": [
        "#@title Choose layer to freeze\n",
        "\n",
        "layer_name = 'multiply_14' #@param {type: 'string'}\n",
        "\n",
        "trainable = False\n",
        "for layer in base_model.layers:\n",
        "    if layer.name == layer_name:\n",
        "        trainable = True\n",
        "    layer.trainable = trainable\n",
        "\n",
        "\n"
      ],
      "metadata": {
        "cellView": "form",
        "id": "Llx4c4YJXDq5"
      },
      "execution_count": 13,
      "outputs": []
    },
    {
      "cell_type": "code",
      "source": [
        "batch_loss_histories = {}\n",
        "epoch_loss_histories = {'loss': [], 'val_loss': []}"
      ],
      "metadata": {
        "id": "8pqSmwJX1LGS"
      },
      "execution_count": 14,
      "outputs": []
    },
    {
      "cell_type": "code",
      "source": [
        "class LossOnBatch(callbacks.Callback):\n",
        "    def __init__(self, epoch):\n",
        "        super(LossOnBatch, self).__init__()\n",
        "        self.epoch = epoch\n",
        "        batch_loss_histories[epoch] = []\n",
        "\n",
        "    def on_train_batch_end(self, batch, logs=None):\n",
        "        batch_loss_histories[self.epoch].append(logs.get('loss'))\n",
        "\n",
        "    def on_epoch_end(self, epoch, logs=None):\n",
        "        epoch_loss_histories['loss'].append(logs.get('loss'))\n",
        "        epoch_loss_histories['val_loss'].append(logs.get('val_loss'))"
      ],
      "metadata": {
        "id": "hhKyzYjy0sk1"
      },
      "execution_count": 15,
      "outputs": []
    },
    {
      "cell_type": "code",
      "source": [
        "val_ds = pd.concat([val_df, val_df]).sort_index(axis=0)\n",
        "val_labels = label_encoder.transform(val_ds['label_group'])\n",
        "val_ds = tf.data.Dataset.from_tensor_slices((str(train_img_dir) + os.sep + val_ds['image'], val_labels))\n",
        "val_ds = configure_dataset(val_ds, mode='validation', fine_tune=True)   # evaluation using keras pretrained-model"
      ],
      "metadata": {
        "id": "1X9BQITyClpS"
      },
      "execution_count": 16,
      "outputs": []
    },
    {
      "cell_type": "code",
      "source": [
        "embedding.compile(\n",
        "    optimizer=SGD(learning_rate=5e-3, momentum=0.9, nesterov=True),\n",
        "    loss=tfa.losses.TripletSemiHardLoss(),\n",
        "    )\n",
        "\n",
        "max_epoch = 3\n",
        "for epoch in range(max_epoch):\n",
        "    train_df = train_df.sample(frac=1.0).reset_index(drop=True)\n",
        "    train_ds = pd.concat([train_df, train_df]).sort_index(axis=0)\n",
        "    train_ds = tf.data.Dataset.from_tensor_slices((str(train_img_dir) + os.sep + train_ds['image'], label_encoder.transform(train_ds['label_group'])))\n",
        "    train_ds = configure_dataset(train_ds, mode='training', fine_tune=True)     # training using keras pretrained-model\n",
        "\n",
        "    print('Epoch %d/%d' % (epoch + 1, max_epoch))\n",
        "\n",
        "    embedding.fit(\n",
        "        train_ds,\n",
        "        epochs=1,\n",
        "        validation_data=val_ds,\n",
        "        callbacks=[LossOnBatch(epoch)]\n",
        "    )"
      ],
      "metadata": {
        "id": "hwstKXvA74X1",
        "colab": {
          "base_uri": "https://localhost:8080/"
        },
        "outputId": "f32b6d54-427c-4e39-cb16-bc3e542aa5fa"
      },
      "execution_count": 17,
      "outputs": [
        {
          "output_type": "stream",
          "name": "stdout",
          "text": [
            "Epoch 1/3\n",
            "727/727 [==============================] - 1106s 1s/step - loss: 0.5168 - val_loss: 0.4329\n",
            "Epoch 2/3\n",
            "727/727 [==============================] - 1235s 2s/step - loss: 0.3651 - val_loss: 0.3524\n",
            "Epoch 3/3\n",
            "727/727 [==============================] - 1073s 1s/step - loss: 0.3131 - val_loss: 0.3160\n"
          ]
        }
      ]
    },
    {
      "cell_type": "code",
      "source": [
        "%%time\n",
        "set_seed(42)\n",
        "anchor_df = train_df.groupby('label_group').nth(0)\n",
        "\n",
        "anchor_df['label_group'] = anchor_df.index\n",
        "anchor_df = anchor_df.reset_index(drop=True)\n",
        "\n",
        "anchor_df = pd.concat([anchor_df for _ in range(4)]).sort_index(axis=0)\n",
        "anchor_labels = label_encoder.transform(anchor_df['label_group'])\n",
        "anchor_ds = tf.data.Dataset.from_tensor_slices((str(train_img_dir) + os.sep + anchor_df['image'], anchor_labels))\n",
        "anchor_ds = configure_dataset(anchor_ds, mode='training', fine_tune=True)\n",
        "anchor_embeddings = embedding.predict(anchor_ds)"
      ],
      "metadata": {
        "id": "RMaBhhzUvzcA"
      },
      "execution_count": 22,
      "outputs": []
    },
    {
      "cell_type": "code",
      "source": [
        "with open('/content/drive/MyDrive/checkpoint/anchor_embeddings.pkl', 'wb') as f:\n",
        "    pickle.dump(anchor_embeddings, f)\n",
        "\n",
        "with open('/content/drive/MyDrive/checkpoint/anchor_labels.pkl', 'wb') as f:\n",
        "    pickle.dump(anchor_labels, f)"
      ],
      "metadata": {
        "id": "g9Pc8NUmKZC5"
      },
      "execution_count": null,
      "outputs": []
    },
    {
      "cell_type": "code",
      "source": [
        "KNN = KNeighborsClassifier(n_neighbors=4)\n",
        "KNN.fit(anchor_embeddings, anchor_labels)"
      ],
      "metadata": {
        "colab": {
          "base_uri": "https://localhost:8080/"
        },
        "id": "CnhuWTCbvFCW",
        "outputId": "d86c24ed-cb0c-4659-c68d-2f43fe847ae7"
      },
      "execution_count": 23,
      "outputs": [
        {
          "output_type": "execute_result",
          "data": {
            "text/plain": [
              "KNeighborsClassifier(n_neighbors=4)"
            ]
          },
          "metadata": {},
          "execution_count": 23
        }
      ]
    },
    {
      "cell_type": "code",
      "source": [
        "%%time\n",
        "val_embeddings = embedding.predict(val_ds)"
      ],
      "metadata": {
        "id": "Z5JU3lRP6-7S",
        "colab": {
          "base_uri": "https://localhost:8080/"
        },
        "outputId": "bac20d7a-c272-4c15-9703-a41addcb300c"
      },
      "execution_count": 24,
      "outputs": [
        {
          "output_type": "stream",
          "name": "stdout",
          "text": [
            "CPU times: user 9min 53s, sys: 15.8 s, total: 10min 9s\n",
            "Wall time: 5min 24s\n"
          ]
        }
      ]
    },
    {
      "cell_type": "code",
      "source": [
        "%%time\n",
        "val_preds = KNN.predict_proba(val_embeddings)"
      ],
      "metadata": {
        "id": "RlJXJ2Z97sis",
        "colab": {
          "base_uri": "https://localhost:8080/"
        },
        "outputId": "490b934c-7608-4325-8fda-ea049577505d"
      },
      "execution_count": 25,
      "outputs": [
        {
          "output_type": "stream",
          "name": "stdout",
          "text": [
            "CPU times: user 2min 36s, sys: 10.8 s, total: 2min 47s\n",
            "Wall time: 1min 31s\n"
          ]
        }
      ]
    },
    {
      "cell_type": "code",
      "source": [
        "top_k_accuracy_score(val_labels, val_preds, k=3)"
      ],
      "metadata": {
        "colab": {
          "base_uri": "https://localhost:8080/"
        },
        "id": "61IrN1Af8P42",
        "outputId": "a49ed195-6dd6-493b-e063-ffdaefb49b3f"
      },
      "execution_count": 27,
      "outputs": [
        {
          "output_type": "execute_result",
          "data": {
            "text/plain": [
              "0.5374977301616125"
            ]
          },
          "metadata": {},
          "execution_count": 27
        }
      ]
    },
    {
      "cell_type": "code",
      "source": [
        "pca = PCA(n_components=2)\n",
        "decomposed_embeddings = pca.fit_transform(anchor_embeddings)"
      ],
      "metadata": {
        "id": "R1DvhAwuioJV"
      },
      "execution_count": 28,
      "outputs": []
    },
    {
      "cell_type": "code",
      "source": [
        "num_class = 20\n",
        "plt.figure(figsize=(10, 10))\n",
        "sns.scatterplot(x=decomposed_embeddings[:4*num_class, 0], \n",
        "                y=decomposed_embeddings[:4*num_class, 1], \n",
        "                hue=anchor_labels[:4*num_class], \n",
        "                palette=cm.get_cmap('Spectral')\n",
        ")"
      ],
      "metadata": {
        "id": "5H9Ka-6UERG5",
        "colab": {
          "base_uri": "https://localhost:8080/",
          "height": 610
        },
        "outputId": "d0e1d63b-5f31-4f96-8b93-c2ce77fc9c49"
      },
      "execution_count": 32,
      "outputs": [
        {
          "output_type": "execute_result",
          "data": {
            "text/plain": [
              "<matplotlib.axes._subplots.AxesSubplot at 0x7f1a03036a50>"
            ]
          },
          "metadata": {},
          "execution_count": 32
        },
        {
          "output_type": "display_data",
          "data": {
            "image/png": "[encoded data removed]",
            "text/plain": [
              "<Figure size 720x720 with 1 Axes>"
            ]
          },
          "metadata": {
            "needs_background": "light"
          }
        }
      ]
    },
    {
      "cell_type": "code",
      "source": [
        "embedding.save('/content/drive/MyDrive/checkpoint/embedding')"
      ],
      "metadata": {
        "id": "d3OCL7R_TvO_"
      },
      "execution_count": null,
      "outputs": []
    },
    {
      "cell_type": "code",
      "source": [
        "embedding = tf.keras.models.load_model('/content/drive/MyDrive/checkpoint/embedding')"
      ],
      "metadata": {
        "id": "J7Lf-h0GW8Df"
      },
      "execution_count": null,
      "outputs": []
    },
    {
      "cell_type": "code",
      "source": [
        "all_losses = []\n",
        "for _ in range(len(batch_loss_histories)): all_losses.extend(batch_loss_histories[_])\n",
        "plt.plot(range(len(all_losses)), all_losses)\n",
        "plt.show()"
      ],
      "metadata": {
        "id": "9ANqQt5jM_dq",
        "outputId": "1bf9e116-a5a5-4682-e8a0-c6542f9fbe60",
        "colab": {
          "base_uri": "https://localhost:8080/",
          "height": 283
        }
      },
      "execution_count": 39,
      "outputs": [
        {
          "output_type": "execute_result",
          "data": {
            "text/plain": [
              "[<matplotlib.lines.Line2D at 0x7f1a02ebd210>]"
            ]
          },
          "metadata": {},
          "execution_count": 39
        },
        {
          "output_type": "display_data",
          "data": {
            "image/png": "[encoded data removed]",
            "text/plain": [
              "<Figure size 432x288 with 1 Axes>"
            ]
          },
          "metadata": {
            "needs_background": "light"
          }
        }
      ]
    },
    {
      "cell_type": "code",
      "source": [
        "max_epoch = len(epoch_loss_histories['loss'])\n",
        "plt.plot(range(max_epoch), epoch_loss_histories['loss'], label='loss')\n",
        "plt.plot(range(max_epoch), epoch_loss_histories['val_loss'], label='val_loss')\n",
        "plt.show()"
      ],
      "metadata": {
        "id": "723h-3AsOnZ5",
        "outputId": "e1669723-7c9d-46a7-e5bd-f057ea8ce14a",
        "colab": {
          "base_uri": "https://localhost:8080/",
          "height": 267
        }
      },
      "execution_count": 41,
      "outputs": [
        {
          "output_type": "display_data",
          "data": {
            "image/png": "[encoded data removed]",
            "text/plain": [
              "<Figure size 432x288 with 1 Axes>"
            ]
          },
          "metadata": {
            "needs_background": "light"
          }
        }
      ]
    },
    {
      "cell_type": "code",
      "source": [
        "ncols = 3\n",
        "nrows = 3\n",
        "plt.figure(figsize=(4*ncols, 4*nrows))\n",
        "spec = gridspec.GridSpec(ncols=ncols, nrows=nrows)\n",
        "for img_batch, label_batch in train_ds.take(1):\n",
        "    i = 0\n",
        "    for img, label in zip(img_batch, label_batch):\n",
        "        plt.subplot(spec[i])\n",
        "        plt.imshow(img)\n",
        "        plt.title(label.numpy())\n",
        "        plt.axis('off')\n",
        "\n",
        "        i += 1\n",
        "        if i == nrows * ncols:\n",
        "            break\n",
        "plt.show()"
      ],
      "metadata": {
        "id": "Cetzlq5IUJ0G"
      },
      "execution_count": null,
      "outputs": []
    },
    {
      "cell_type": "markdown",
      "source": [
        "# Depricated"
      ],
      "metadata": {
        "id": "KILeLz9iOWAy"
      }
    },
    {
      "cell_type": "code",
      "source": [
        "#@title Define embedding model (Run only once)\n",
        "base_model = tf.keras.applications.MobileNetV3Large(weights='imagenet', input_shape=(224, 224, 3), include_top=False)\n",
        "\n",
        "output = layers.Flatten()(base_model.output)\n",
        "output = layers.Dense(512, activation='relu')(output)\n",
        "output = layers.BatchNormalization()(output)\n",
        "output = layers.Dense(256, activation='relu')(output)\n",
        "output = layers.BatchNormalization()(output)\n",
        "output = layers.Dense(256, activation='relu')(output)\n",
        "output = layers.BatchNormalization()(output)\n",
        "\n",
        "embedding = Model(base_model.input, output, name='Embedding')\n"
      ],
      "metadata": {
        "id": "JeaSzkDi_x-O"
      },
      "execution_count": null,
      "outputs": []
    },
    {
      "cell_type": "code",
      "source": [
        "embedding.summary()"
      ],
      "metadata": {
        "id": "PGkdwkjF_B5R"
      },
      "execution_count": null,
      "outputs": []
    },
    {
      "cell_type": "code",
      "source": [
        "#@title Choose layer to freeze\n",
        "\n",
        "layer_name = 'multiply_61' #@param {type: 'string'}\n",
        "\n",
        "trainable = False\n",
        "for layer in base_model.layers:\n",
        "    if layer.name == layer_name:\n",
        "        trainable = True\n",
        "    layer.trainable = trainable\n",
        "\n",
        "class Distance(layers.Layer):\n",
        "    def __init__(self, **kwargs):\n",
        "        super().__init__(**kwargs)\n",
        "\n",
        "    def call(self, anchor, positive, negative):\n",
        "        ap_distance = tf.reduce_sum(tf.square(anchor - positive), -1)\n",
        "        an_distance = tf.reduce_sum(tf.square(anchor - negative), -1)\n",
        "        return ap_distance, an_distance\n",
        "\n",
        "anchor_input = layers.Input(name='anchor', shape=(224, 224, 3))\n",
        "positive_input = layers.Input(name='positive', shape=(224, 224, 3))\n",
        "negative_input = layers.Input(name='negative', shape=(224, 224, 3))\n",
        "\n",
        "distances = Distance()(\n",
        "    embedding(mobilenet_v3.preprocess_input(anchor_input)),\n",
        "    embedding(mobilenet_v3.preprocess_input(positive_input)),\n",
        "    embedding(mobilenet_v3.preprocess_input(negative_input))\n",
        ")\n",
        "\n",
        "siamese_base = Model(\n",
        "    inputs=[anchor_input, positive_input, negative_input],\n",
        "    outputs=distances\n",
        ")\n",
        "\n",
        "class SiameseNet(Model):\n",
        "    \"\"\"\n",
        "    Siamese network with triplet loss:\n",
        "        L(A, P, N) = max(‖f(A) - f(P)‖² - ‖f(A) - f(N)‖² + margin, 0)\n",
        "    \"\"\"\n",
        "    def __init__(self, siamese_base, margin=0.5):\n",
        "        super(SiameseNet, self).__init__()\n",
        "        self.siamese_base = siamese_base\n",
        "        self.margin = margin\n",
        "        self.loss_tracker = metrics.Mean(name='loss')\n",
        "\n",
        "    def call(self, inputs):\n",
        "        return self.siamese_base(inputs)\n",
        "\n",
        "    @tf.function\n",
        "    def _compute_loss(self, data):\n",
        "        ap_distance, an_distance = self.siamese_base(data)\n",
        "        loss = tf.maximum(ap_distance + self.margin - an_distance, 0.0)\n",
        "        return loss\n",
        "\n",
        "    @tf.function\n",
        "    def train_step(self, data):\n",
        "        with tf.GradientTape() as tape:\n",
        "            loss = self._compute_loss(data)\n",
        "\n",
        "        gradients = tape.gradient(loss, self.siamese_base.trainable_weights)\n",
        "        self.optimizer.apply_gradients(zip(gradients, self.siamese_base.trainable_weights))\n",
        "        \n",
        "        self.loss_tracker.update_state(loss)\n",
        "        return {'loss': self.loss_tracker.result()}\n",
        "\n",
        "    @tf.function\n",
        "    def test_step(self, data):\n",
        "        loss = self._compute_loss(data)\n",
        "        self.loss_tracker.update_state(loss)\n",
        "        return {'val_loss': self.loss_tracker.result()}\n",
        "\n",
        "    @property\n",
        "    def metrics(self):\n",
        "        # list our metrics here so the `reset_states()` can be called automatically.\n",
        "        return [self.loss_tracker]\n",
        "\n"
      ],
      "metadata": {
        "id": "jTYtsebDM1cF"
      },
      "execution_count": null,
      "outputs": []
    },
    {
      "cell_type": "code",
      "source": [
        "class SaveModelOnBatch(callbacks.Callback):\n",
        "    def __init__(self, n, path, terminate_batch=None):\n",
        "        super(SaveModelOnBatch, self).__init__()\n",
        "        self.n = n\n",
        "        self.path = path\n",
        "        self.terminate_batch = terminate_batch\n",
        "\n",
        "    def on_train_batch_end(self, batch, logs=None):\n",
        "        if batch > 0 and batch % self.n == 0:\n",
        "            print('Current loss:', logs.get('loss'))\n",
        "            embedding.save(self.path + os.sep + 'embedding')\n",
        "            print('embedding saved at', self.path + os.sep + 'embedding')\n",
        "            # siamese_base.save(self.path + os.sep + 'siamese_base')\n",
        "            # print('siamese_base saved at', self.path + os.sep + 'siamese_base')\n",
        "        if batch == self.terminate_batch:\n",
        "            self.model.stop_training = True\n",
        "            return"
      ],
      "metadata": {
        "id": "Jk41Y7bC3-ti"
      },
      "execution_count": null,
      "outputs": []
    },
    {
      "cell_type": "code",
      "source": [
        "model = SiameseNet(siamese_base, 1.0)\n",
        "model.compile(optimizer=SGD(learning_rate=1e-5, momentum=0.9, nesterov=True))\n",
        "history = model.fit(train_ds, \n",
        "          epochs=2, \n",
        "          validation_data=val_ds, \n",
        "          shuffle=True, \n",
        "          callbacks=[SaveModelOnBatch(200, '/content/drive/MyDrive/checkpoint'),\n",
        "                    #  callbacks.ReduceLROnPlateau(monitor=\"loss\", factor=0.1, patience=1, verbose=1),\n",
        "                    #  callbacks.EarlyStopping(monitor=\"val_loss\", patience=10, verbose=1, restore_best_weights=True)\n",
        "                     ]\n",
        ")"
      ],
      "metadata": {
        "id": "XF3xflRKG4CD",
        "colab": {
          "base_uri": "https://localhost:8080/"
        },
        "outputId": "5053e31d-0723-4668-f497-36c6551f15c9"
      },
      "execution_count": null,
      "outputs": [
        {
          "output_type": "stream",
          "name": "stdout",
          "text": [
            "Epoch 1/2\n",
            "  200/34388 [..............................] - ETA: 68:10:51 - loss: 0.9034Current loss: 0.9027803540229797\n",
            "WARNING:tensorflow:Compiled the loaded model, but the compiled metrics have yet to be built. `model.compile_metrics` will be empty until you train or evaluate the model.\n",
            "INFO:tensorflow:Assets written to: /content/drive/MyDrive/checkpoint/embedding/assets\n"
          ]
        },
        {
          "output_type": "stream",
          "name": "stderr",
          "text": [
            "/usr/local/lib/python3.7/dist-packages/keras/engine/functional.py:1410: CustomMaskWarning: Custom mask layers require a config and must override get_config. When loading, the custom mask layer must be passed to the custom_objects argument.\n",
            "  layer_config = serialize_layer_fn(layer)\n",
            "/usr/local/lib/python3.7/dist-packages/keras/saving/saved_model/layer_serialization.py:112: CustomMaskWarning: Custom mask layers require a config and must override get_config. When loading, the custom mask layer must be passed to the custom_objects argument.\n",
            "  return generic_utils.serialize_keras_object(obj)\n"
          ]
        },
        {
          "output_type": "stream",
          "name": "stdout",
          "text": [
            "embedding saved at /content/drive/MyDrive/checkpoint/embedding\n",
            "WARNING:tensorflow:Compiled the loaded model, but the compiled metrics have yet to be built. `model.compile_metrics` will be empty until you train or evaluate the model.\n",
            "INFO:tensorflow:Assets written to: /content/drive/MyDrive/checkpoint/siamese_base/assets\n"
          ]
        },
        {
          "output_type": "stream",
          "name": "stderr",
          "text": [
            "/usr/local/lib/python3.7/dist-packages/keras/engine/functional.py:1410: CustomMaskWarning: Custom mask layers require a config and must override get_config. When loading, the custom mask layer must be passed to the custom_objects argument.\n",
            "  layer_config = serialize_layer_fn(layer)\n",
            "/usr/local/lib/python3.7/dist-packages/keras/saving/saved_model/layer_serialization.py:112: CustomMaskWarning: Custom mask layers require a config and must override get_config. When loading, the custom mask layer must be passed to the custom_objects argument.\n",
            "  return generic_utils.serialize_keras_object(obj)\n"
          ]
        },
        {
          "output_type": "stream",
          "name": "stdout",
          "text": [
            "siamese_base saved at /content/drive/MyDrive/checkpoint/siamese_base\n",
            "  400/34388 [..............................] - ETA: 69:30:45 - loss: 0.8640Current loss: 0.8638365268707275\n",
            "WARNING:tensorflow:Compiled the loaded model, but the compiled metrics have yet to be built. `model.compile_metrics` will be empty until you train or evaluate the model.\n",
            "INFO:tensorflow:Assets written to: /content/drive/MyDrive/checkpoint/embedding/assets\n"
          ]
        },
        {
          "output_type": "stream",
          "name": "stderr",
          "text": [
            "/usr/local/lib/python3.7/dist-packages/keras/engine/functional.py:1410: CustomMaskWarning: Custom mask layers require a config and must override get_config. When loading, the custom mask layer must be passed to the custom_objects argument.\n",
            "  layer_config = serialize_layer_fn(layer)\n",
            "/usr/local/lib/python3.7/dist-packages/keras/saving/saved_model/layer_serialization.py:112: CustomMaskWarning: Custom mask layers require a config and must override get_config. When loading, the custom mask layer must be passed to the custom_objects argument.\n",
            "  return generic_utils.serialize_keras_object(obj)\n"
          ]
        },
        {
          "output_type": "stream",
          "name": "stdout",
          "text": [
            "embedding saved at /content/drive/MyDrive/checkpoint/embedding\n",
            "WARNING:tensorflow:Compiled the loaded model, but the compiled metrics have yet to be built. `model.compile_metrics` will be empty until you train or evaluate the model.\n",
            "INFO:tensorflow:Assets written to: /content/drive/MyDrive/checkpoint/siamese_base/assets\n"
          ]
        },
        {
          "output_type": "stream",
          "name": "stderr",
          "text": [
            "/usr/local/lib/python3.7/dist-packages/keras/engine/functional.py:1410: CustomMaskWarning: Custom mask layers require a config and must override get_config. When loading, the custom mask layer must be passed to the custom_objects argument.\n",
            "  layer_config = serialize_layer_fn(layer)\n",
            "/usr/local/lib/python3.7/dist-packages/keras/saving/saved_model/layer_serialization.py:112: CustomMaskWarning: Custom mask layers require a config and must override get_config. When loading, the custom mask layer must be passed to the custom_objects argument.\n",
            "  return generic_utils.serialize_keras_object(obj)\n"
          ]
        },
        {
          "output_type": "stream",
          "name": "stdout",
          "text": [
            "siamese_base saved at /content/drive/MyDrive/checkpoint/siamese_base\n",
            "  600/34388 [..............................] - ETA: 70:01:35 - loss: 0.8315Current loss: 0.8313974738121033\n",
            "WARNING:tensorflow:Compiled the loaded model, but the compiled metrics have yet to be built. `model.compile_metrics` will be empty until you train or evaluate the model.\n",
            "INFO:tensorflow:Assets written to: /content/drive/MyDrive/checkpoint/embedding/assets\n"
          ]
        },
        {
          "output_type": "stream",
          "name": "stderr",
          "text": [
            "/usr/local/lib/python3.7/dist-packages/keras/engine/functional.py:1410: CustomMaskWarning: Custom mask layers require a config and must override get_config. When loading, the custom mask layer must be passed to the custom_objects argument.\n",
            "  layer_config = serialize_layer_fn(layer)\n",
            "/usr/local/lib/python3.7/dist-packages/keras/saving/saved_model/layer_serialization.py:112: CustomMaskWarning: Custom mask layers require a config and must override get_config. When loading, the custom mask layer must be passed to the custom_objects argument.\n",
            "  return generic_utils.serialize_keras_object(obj)\n"
          ]
        },
        {
          "output_type": "stream",
          "name": "stdout",
          "text": [
            "embedding saved at /content/drive/MyDrive/checkpoint/embedding\n",
            "WARNING:tensorflow:Compiled the loaded model, but the compiled metrics have yet to be built. `model.compile_metrics` will be empty until you train or evaluate the model.\n",
            "INFO:tensorflow:Assets written to: /content/drive/MyDrive/checkpoint/siamese_base/assets\n"
          ]
        },
        {
          "output_type": "stream",
          "name": "stderr",
          "text": [
            "/usr/local/lib/python3.7/dist-packages/keras/engine/functional.py:1410: CustomMaskWarning: Custom mask layers require a config and must override get_config. When loading, the custom mask layer must be passed to the custom_objects argument.\n",
            "  layer_config = serialize_layer_fn(layer)\n",
            "/usr/local/lib/python3.7/dist-packages/keras/saving/saved_model/layer_serialization.py:112: CustomMaskWarning: Custom mask layers require a config and must override get_config. When loading, the custom mask layer must be passed to the custom_objects argument.\n",
            "  return generic_utils.serialize_keras_object(obj)\n"
          ]
        },
        {
          "output_type": "stream",
          "name": "stdout",
          "text": [
            "siamese_base saved at /content/drive/MyDrive/checkpoint/siamese_base\n",
            "  800/34388 [..............................] - ETA: 69:50:16 - loss: 0.8076Current loss: 0.8075528144836426\n",
            "WARNING:tensorflow:Compiled the loaded model, but the compiled metrics have yet to be built. `model.compile_metrics` will be empty until you train or evaluate the model.\n",
            "INFO:tensorflow:Assets written to: /content/drive/MyDrive/checkpoint/embedding/assets\n"
          ]
        },
        {
          "output_type": "stream",
          "name": "stderr",
          "text": [
            "/usr/local/lib/python3.7/dist-packages/keras/engine/functional.py:1410: CustomMaskWarning: Custom mask layers require a config and must override get_config. When loading, the custom mask layer must be passed to the custom_objects argument.\n",
            "  layer_config = serialize_layer_fn(layer)\n",
            "/usr/local/lib/python3.7/dist-packages/keras/saving/saved_model/layer_serialization.py:112: CustomMaskWarning: Custom mask layers require a config and must override get_config. When loading, the custom mask layer must be passed to the custom_objects argument.\n",
            "  return generic_utils.serialize_keras_object(obj)\n"
          ]
        },
        {
          "output_type": "stream",
          "name": "stdout",
          "text": [
            "embedding saved at /content/drive/MyDrive/checkpoint/embedding\n",
            "WARNING:tensorflow:Compiled the loaded model, but the compiled metrics have yet to be built. `model.compile_metrics` will be empty until you train or evaluate the model.\n",
            "INFO:tensorflow:Assets written to: /content/drive/MyDrive/checkpoint/siamese_base/assets\n"
          ]
        },
        {
          "output_type": "stream",
          "name": "stderr",
          "text": [
            "/usr/local/lib/python3.7/dist-packages/keras/engine/functional.py:1410: CustomMaskWarning: Custom mask layers require a config and must override get_config. When loading, the custom mask layer must be passed to the custom_objects argument.\n",
            "  layer_config = serialize_layer_fn(layer)\n",
            "/usr/local/lib/python3.7/dist-packages/keras/saving/saved_model/layer_serialization.py:112: CustomMaskWarning: Custom mask layers require a config and must override get_config. When loading, the custom mask layer must be passed to the custom_objects argument.\n",
            "  return generic_utils.serialize_keras_object(obj)\n"
          ]
        },
        {
          "output_type": "stream",
          "name": "stdout",
          "text": [
            "siamese_base saved at /content/drive/MyDrive/checkpoint/siamese_base\n",
            " 1000/34388 [..............................] - ETA: 69:42:29 - loss: 0.7893Current loss: 0.7893808484077454\n",
            "WARNING:tensorflow:Compiled the loaded model, but the compiled metrics have yet to be built. `model.compile_metrics` will be empty until you train or evaluate the model.\n",
            "INFO:tensorflow:Assets written to: /content/drive/MyDrive/checkpoint/embedding/assets\n"
          ]
        },
        {
          "output_type": "stream",
          "name": "stderr",
          "text": [
            "/usr/local/lib/python3.7/dist-packages/keras/engine/functional.py:1410: CustomMaskWarning: Custom mask layers require a config and must override get_config. When loading, the custom mask layer must be passed to the custom_objects argument.\n",
            "  layer_config = serialize_layer_fn(layer)\n",
            "/usr/local/lib/python3.7/dist-packages/keras/saving/saved_model/layer_serialization.py:112: CustomMaskWarning: Custom mask layers require a config and must override get_config. When loading, the custom mask layer must be passed to the custom_objects argument.\n",
            "  return generic_utils.serialize_keras_object(obj)\n"
          ]
        },
        {
          "output_type": "stream",
          "name": "stdout",
          "text": [
            "embedding saved at /content/drive/MyDrive/checkpoint/embedding\n",
            "WARNING:tensorflow:Compiled the loaded model, but the compiled metrics have yet to be built. `model.compile_metrics` will be empty until you train or evaluate the model.\n",
            "INFO:tensorflow:Assets written to: /content/drive/MyDrive/checkpoint/siamese_base/assets\n"
          ]
        },
        {
          "output_type": "stream",
          "name": "stderr",
          "text": [
            "/usr/local/lib/python3.7/dist-packages/keras/engine/functional.py:1410: CustomMaskWarning: Custom mask layers require a config and must override get_config. When loading, the custom mask layer must be passed to the custom_objects argument.\n",
            "  layer_config = serialize_layer_fn(layer)\n",
            "/usr/local/lib/python3.7/dist-packages/keras/saving/saved_model/layer_serialization.py:112: CustomMaskWarning: Custom mask layers require a config and must override get_config. When loading, the custom mask layer must be passed to the custom_objects argument.\n",
            "  return generic_utils.serialize_keras_object(obj)\n"
          ]
        },
        {
          "output_type": "stream",
          "name": "stdout",
          "text": [
            "siamese_base saved at /content/drive/MyDrive/checkpoint/siamese_base\n",
            " 1200/34388 [>.............................] - ETA: 69:29:54 - loss: 0.7693Current loss: 0.7691348791122437\n",
            "WARNING:tensorflow:Compiled the loaded model, but the compiled metrics have yet to be built. `model.compile_metrics` will be empty until you train or evaluate the model.\n",
            "INFO:tensorflow:Assets written to: /content/drive/MyDrive/checkpoint/embedding/assets\n"
          ]
        },
        {
          "output_type": "stream",
          "name": "stderr",
          "text": [
            "/usr/local/lib/python3.7/dist-packages/keras/engine/functional.py:1410: CustomMaskWarning: Custom mask layers require a config and must override get_config. When loading, the custom mask layer must be passed to the custom_objects argument.\n",
            "  layer_config = serialize_layer_fn(layer)\n",
            "/usr/local/lib/python3.7/dist-packages/keras/saving/saved_model/layer_serialization.py:112: CustomMaskWarning: Custom mask layers require a config and must override get_config. When loading, the custom mask layer must be passed to the custom_objects argument.\n",
            "  return generic_utils.serialize_keras_object(obj)\n"
          ]
        },
        {
          "output_type": "stream",
          "name": "stdout",
          "text": [
            "embedding saved at /content/drive/MyDrive/checkpoint/embedding\n",
            "WARNING:tensorflow:Compiled the loaded model, but the compiled metrics have yet to be built. `model.compile_metrics` will be empty until you train or evaluate the model.\n",
            "INFO:tensorflow:Assets written to: /content/drive/MyDrive/checkpoint/siamese_base/assets\n"
          ]
        },
        {
          "output_type": "stream",
          "name": "stderr",
          "text": [
            "/usr/local/lib/python3.7/dist-packages/keras/engine/functional.py:1410: CustomMaskWarning: Custom mask layers require a config and must override get_config. When loading, the custom mask layer must be passed to the custom_objects argument.\n",
            "  layer_config = serialize_layer_fn(layer)\n",
            "/usr/local/lib/python3.7/dist-packages/keras/saving/saved_model/layer_serialization.py:112: CustomMaskWarning: Custom mask layers require a config and must override get_config. When loading, the custom mask layer must be passed to the custom_objects argument.\n",
            "  return generic_utils.serialize_keras_object(obj)\n"
          ]
        },
        {
          "output_type": "stream",
          "name": "stdout",
          "text": [
            "siamese_base saved at /content/drive/MyDrive/checkpoint/siamese_base\n",
            " 1400/34388 [>.............................] - ETA: 69:13:29 - loss: 0.7498Current loss: 0.7497460842132568\n",
            "WARNING:tensorflow:Compiled the loaded model, but the compiled metrics have yet to be built. `model.compile_metrics` will be empty until you train or evaluate the model.\n",
            "INFO:tensorflow:Assets written to: /content/drive/MyDrive/checkpoint/embedding/assets\n"
          ]
        },
        {
          "output_type": "stream",
          "name": "stderr",
          "text": [
            "/usr/local/lib/python3.7/dist-packages/keras/engine/functional.py:1410: CustomMaskWarning: Custom mask layers require a config and must override get_config. When loading, the custom mask layer must be passed to the custom_objects argument.\n",
            "  layer_config = serialize_layer_fn(layer)\n",
            "/usr/local/lib/python3.7/dist-packages/keras/saving/saved_model/layer_serialization.py:112: CustomMaskWarning: Custom mask layers require a config and must override get_config. When loading, the custom mask layer must be passed to the custom_objects argument.\n",
            "  return generic_utils.serialize_keras_object(obj)\n"
          ]
        },
        {
          "output_type": "stream",
          "name": "stdout",
          "text": [
            "embedding saved at /content/drive/MyDrive/checkpoint/embedding\n",
            "WARNING:tensorflow:Compiled the loaded model, but the compiled metrics have yet to be built. `model.compile_metrics` will be empty until you train or evaluate the model.\n",
            "INFO:tensorflow:Assets written to: /content/drive/MyDrive/checkpoint/siamese_base/assets\n"
          ]
        },
        {
          "output_type": "stream",
          "name": "stderr",
          "text": [
            "/usr/local/lib/python3.7/dist-packages/keras/engine/functional.py:1410: CustomMaskWarning: Custom mask layers require a config and must override get_config. When loading, the custom mask layer must be passed to the custom_objects argument.\n",
            "  layer_config = serialize_layer_fn(layer)\n",
            "/usr/local/lib/python3.7/dist-packages/keras/saving/saved_model/layer_serialization.py:112: CustomMaskWarning: Custom mask layers require a config and must override get_config. When loading, the custom mask layer must be passed to the custom_objects argument.\n",
            "  return generic_utils.serialize_keras_object(obj)\n"
          ]
        },
        {
          "output_type": "stream",
          "name": "stdout",
          "text": [
            "siamese_base saved at /content/drive/MyDrive/checkpoint/siamese_base\n",
            " 1600/34388 [>.............................] - ETA: 68:56:01 - loss: 0.7347Current loss: 0.7345338463783264\n",
            "WARNING:tensorflow:Compiled the loaded model, but the compiled metrics have yet to be built. `model.compile_metrics` will be empty until you train or evaluate the model.\n",
            "INFO:tensorflow:Assets written to: /content/drive/MyDrive/checkpoint/embedding/assets\n"
          ]
        },
        {
          "output_type": "stream",
          "name": "stderr",
          "text": [
            "/usr/local/lib/python3.7/dist-packages/keras/engine/functional.py:1410: CustomMaskWarning: Custom mask layers require a config and must override get_config. When loading, the custom mask layer must be passed to the custom_objects argument.\n",
            "  layer_config = serialize_layer_fn(layer)\n",
            "/usr/local/lib/python3.7/dist-packages/keras/saving/saved_model/layer_serialization.py:112: CustomMaskWarning: Custom mask layers require a config and must override get_config. When loading, the custom mask layer must be passed to the custom_objects argument.\n",
            "  return generic_utils.serialize_keras_object(obj)\n"
          ]
        },
        {
          "output_type": "stream",
          "name": "stdout",
          "text": [
            "embedding saved at /content/drive/MyDrive/checkpoint/embedding\n",
            "WARNING:tensorflow:Compiled the loaded model, but the compiled metrics have yet to be built. `model.compile_metrics` will be empty until you train or evaluate the model.\n",
            "INFO:tensorflow:Assets written to: /content/drive/MyDrive/checkpoint/siamese_base/assets\n"
          ]
        },
        {
          "output_type": "stream",
          "name": "stderr",
          "text": [
            "/usr/local/lib/python3.7/dist-packages/keras/engine/functional.py:1410: CustomMaskWarning: Custom mask layers require a config and must override get_config. When loading, the custom mask layer must be passed to the custom_objects argument.\n",
            "  layer_config = serialize_layer_fn(layer)\n",
            "/usr/local/lib/python3.7/dist-packages/keras/saving/saved_model/layer_serialization.py:112: CustomMaskWarning: Custom mask layers require a config and must override get_config. When loading, the custom mask layer must be passed to the custom_objects argument.\n",
            "  return generic_utils.serialize_keras_object(obj)\n"
          ]
        },
        {
          "output_type": "stream",
          "name": "stdout",
          "text": [
            "siamese_base saved at /content/drive/MyDrive/checkpoint/siamese_base\n",
            " 1800/34388 [>.............................] - ETA: 68:40:12 - loss: 0.7186Current loss: 0.7184807062149048\n",
            "WARNING:tensorflow:Compiled the loaded model, but the compiled metrics have yet to be built. `model.compile_metrics` will be empty until you train or evaluate the model.\n",
            "INFO:tensorflow:Assets written to: /content/drive/MyDrive/checkpoint/embedding/assets\n"
          ]
        },
        {
          "output_type": "stream",
          "name": "stderr",
          "text": [
            "/usr/local/lib/python3.7/dist-packages/keras/engine/functional.py:1410: CustomMaskWarning: Custom mask layers require a config and must override get_config. When loading, the custom mask layer must be passed to the custom_objects argument.\n",
            "  layer_config = serialize_layer_fn(layer)\n",
            "/usr/local/lib/python3.7/dist-packages/keras/saving/saved_model/layer_serialization.py:112: CustomMaskWarning: Custom mask layers require a config and must override get_config. When loading, the custom mask layer must be passed to the custom_objects argument.\n",
            "  return generic_utils.serialize_keras_object(obj)\n"
          ]
        },
        {
          "output_type": "stream",
          "name": "stdout",
          "text": [
            "embedding saved at /content/drive/MyDrive/checkpoint/embedding\n",
            "WARNING:tensorflow:Compiled the loaded model, but the compiled metrics have yet to be built. `model.compile_metrics` will be empty until you train or evaluate the model.\n",
            "INFO:tensorflow:Assets written to: /content/drive/MyDrive/checkpoint/siamese_base/assets\n"
          ]
        },
        {
          "output_type": "stream",
          "name": "stderr",
          "text": [
            "/usr/local/lib/python3.7/dist-packages/keras/engine/functional.py:1410: CustomMaskWarning: Custom mask layers require a config and must override get_config. When loading, the custom mask layer must be passed to the custom_objects argument.\n",
            "  layer_config = serialize_layer_fn(layer)\n",
            "/usr/local/lib/python3.7/dist-packages/keras/saving/saved_model/layer_serialization.py:112: CustomMaskWarning: Custom mask layers require a config and must override get_config. When loading, the custom mask layer must be passed to the custom_objects argument.\n",
            "  return generic_utils.serialize_keras_object(obj)\n"
          ]
        },
        {
          "output_type": "stream",
          "name": "stdout",
          "text": [
            "siamese_base saved at /content/drive/MyDrive/checkpoint/siamese_base\n",
            " 2000/34388 [>.............................] - ETA: 68:18:45 - loss: 0.7041Current loss: 0.7040671706199646\n",
            "WARNING:tensorflow:Compiled the loaded model, but the compiled metrics have yet to be built. `model.compile_metrics` will be empty until you train or evaluate the model.\n",
            "INFO:tensorflow:Assets written to: /content/drive/MyDrive/checkpoint/embedding/assets\n"
          ]
        },
        {
          "output_type": "stream",
          "name": "stderr",
          "text": [
            "/usr/local/lib/python3.7/dist-packages/keras/engine/functional.py:1410: CustomMaskWarning: Custom mask layers require a config and must override get_config. When loading, the custom mask layer must be passed to the custom_objects argument.\n",
            "  layer_config = serialize_layer_fn(layer)\n",
            "/usr/local/lib/python3.7/dist-packages/keras/saving/saved_model/layer_serialization.py:112: CustomMaskWarning: Custom mask layers require a config and must override get_config. When loading, the custom mask layer must be passed to the custom_objects argument.\n",
            "  return generic_utils.serialize_keras_object(obj)\n"
          ]
        },
        {
          "output_type": "stream",
          "name": "stdout",
          "text": [
            "embedding saved at /content/drive/MyDrive/checkpoint/embedding\n",
            "WARNING:tensorflow:Compiled the loaded model, but the compiled metrics have yet to be built. `model.compile_metrics` will be empty until you train or evaluate the model.\n",
            "INFO:tensorflow:Assets written to: /content/drive/MyDrive/checkpoint/siamese_base/assets\n"
          ]
        },
        {
          "output_type": "stream",
          "name": "stderr",
          "text": [
            "/usr/local/lib/python3.7/dist-packages/keras/engine/functional.py:1410: CustomMaskWarning: Custom mask layers require a config and must override get_config. When loading, the custom mask layer must be passed to the custom_objects argument.\n",
            "  layer_config = serialize_layer_fn(layer)\n",
            "/usr/local/lib/python3.7/dist-packages/keras/saving/saved_model/layer_serialization.py:112: CustomMaskWarning: Custom mask layers require a config and must override get_config. When loading, the custom mask layer must be passed to the custom_objects argument.\n",
            "  return generic_utils.serialize_keras_object(obj)\n"
          ]
        },
        {
          "output_type": "stream",
          "name": "stdout",
          "text": [
            "siamese_base saved at /content/drive/MyDrive/checkpoint/siamese_base\n",
            " 2088/34388 [>.............................] - ETA: 68:27:57 - loss: 0.6989"
          ]
        }
      ]
    },
    {
      "cell_type": "markdown",
      "source": [
        "batch = 64 hội tụ nhanh hơn 32"
      ],
      "metadata": {
        "id": "Xr1_2jIbeGGH"
      }
    },
    {
      "cell_type": "code",
      "source": [
        "embedding.save('/content/drive/MyDrive/checkpoint/embedding')"
      ],
      "metadata": {
        "id": "7HSTerm2enAj"
      },
      "execution_count": null,
      "outputs": []
    },
    {
      "cell_type": "code",
      "source": [
        "embedding = tf.keras.models.load_model('/content/drive/MyDrive/checkpoint/embedding_0')"
      ],
      "metadata": {
        "id": "RnKZxXrdiyPM",
        "outputId": "a7912a6b-ec49-443d-965d-b10d909566a2",
        "colab": {
          "base_uri": "https://localhost:8080/"
        }
      },
      "execution_count": null,
      "outputs": [
        {
          "output_type": "stream",
          "name": "stdout",
          "text": [
            "WARNING:tensorflow:No training configuration found in save file, so the model was *not* compiled. Compile it manually.\n"
          ]
        }
      ]
    },
    {
      "cell_type": "code",
      "source": [
        "%%time\n",
        "\n",
        "anchor_paths = (str(train_img_dir) + os.sep + anchor_df['image']).to_list()\n",
        "anchor_label_group = anchor_df.index.to_list()\n",
        "\n",
        "anchor_embedding = embedding.predict(\n",
        "    mobilenet_v3.preprocess_input(\n",
        "        tf.data.Dataset.from_tensor_slices(anchor_paths).map(\n",
        "            filepath_to_img, num_parallel_calls=tf.data.AUTOTUNE\n",
        "            ).prefetch(buffer_size=512).batch(32)\n",
        "    )\n",
        ")\n",
        "\n",
        "# anchor_embedding = tf.data.Dataset.from_tensor_slices(anchor_embedding)"
      ],
      "metadata": {
        "colab": {
          "base_uri": "https://localhost:8080/"
        },
        "id": "Cbw5RPehrFyD",
        "outputId": "7a8a7d60-cb64-42d0-d4bb-f952a1084ab9"
      },
      "execution_count": null,
      "outputs": [
        {
          "output_type": "stream",
          "name": "stdout",
          "text": [
            "CPU times: user 2min, sys: 6.68 s, total: 2min 6s\n",
            "Wall time: 1min 19s\n"
          ]
        }
      ]
    },
    {
      "cell_type": "code",
      "source": [
        "# %%time\n",
        "\n",
        "label_group_to_anchor_index = np.vectorize(lambda label_group: anchor_label_group.index(label_group))\n",
        "\n",
        "val_predictions = tf.data.Dataset.from_tensor_slices(str(train_img_dir) + os.sep +  val_df['image'])\n",
        "\n",
        "val_predictions = val_predictions.map(lambda filepath: tf.squeeze(embedding(tf.expand_dims(mobilenet_v3.preprocess_input(data_augmentation(filepath_to_img(filepath))), axis=0))))\n",
        "val_predictions = val_predictions.prefetch(buffer_size=11004)\n",
        "\n",
        "val_predictions = val_predictions.map(lambda embedding_vector: tf.map_fn(lambda x: 1/tf.reduce_sum(tf.square(x - embedding_vector)), anchor_embedding))"
      ],
      "metadata": {
        "id": "WNxEPI4KL3FA"
      },
      "execution_count": null,
      "outputs": []
    },
    {
      "cell_type": "code",
      "source": [
        "label = label_group_to_anchor_index(val_df['label_group'])\n",
        "pred = [p for p in val_predictions]"
      ],
      "metadata": {
        "id": "rLKL9Dv9eZS9"
      },
      "execution_count": null,
      "outputs": []
    },
    {
      "cell_type": "code",
      "source": [
        "val_accuracy = metrics.SparseCategoricalAccuracy()\n",
        "\n",
        "for l, p in zip(label, pred):\n",
        "    val_accuracy.update_state(l, p)  \n",
        "\n",
        "val_accuracy.result()  "
      ],
      "metadata": {
        "id": "stJ8SssO39u0"
      },
      "execution_count": null,
      "outputs": []
    }
  ]
}