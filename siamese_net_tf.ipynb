{
  "nbformat": 4,
  "nbformat_minor": 0,
  "metadata": {
    "colab": {
      "name": "siamese_net_tf.ipynb",
      "provenance": [],
      "mount_file_id": "https://github.com/calibretaliation/DeepLearning20211/blob/main/siamese_net_tf.ipynb",
      "authorship_tag": "ABX9TyORm7SMMAtkSCpuAfSOCnm3",
      "include_colab_link": true
    },
    "kernelspec": {
      "name": "python3",
      "display_name": "Python 3"
    },
    "language_info": {
      "name": "python"
    },
    "accelerator": "GPU"
  },
  "cells": [
    {
      "cell_type": "markdown",
      "metadata": {
        "id": "view-in-github",
        "colab_type": "text"
      },
      "source": [
        "<a href=\"https://colab.research.google.com/github/calibretaliation/DeepLearning20211/blob/main/siamese_net_tf.ipynb\" target=\"_parent\"><img src=\"https://colab.research.google.com/assets/colab-badge.svg\" alt=\"Open In Colab\"/></a>"
      ]
    },
    {
      "cell_type": "code",
      "execution_count": 1,
      "metadata": {
        "colab": {
          "base_uri": "https://localhost:8080/"
        },
        "id": "istTBFbsNPcR",
        "outputId": "203e68e0-39a7-4d54-ac1f-286c3a539e68"
      },
      "outputs": [
        {
          "output_type": "stream",
          "name": "stdout",
          "text": [
            "Cloning into 'DeepLearning20211'...\n",
            "remote: Enumerating objects: 32529, done.\u001b[K\n",
            "remote: Counting objects: 100% (63/63), done.\u001b[K\n",
            "remote: Compressing objects: 100% (63/63), done.\u001b[K\n",
            "remote: Total 32529 (delta 37), reused 0 (delta 0), pack-reused 32466\u001b[K\n",
            "Receiving objects: 100% (32529/32529), 1.68 GiB | 25.13 MiB/s, done.\n",
            "Resolving deltas: 100% (95/95), done.\n",
            "Checking out files: 100% (32428/32428), done.\n"
          ]
        }
      ],
      "source": [
        "!git clone https://github.com/calibretaliation/DeepLearning20211.git"
      ]
    },
    {
      "cell_type": "markdown",
      "source": [
        "## Import"
      ],
      "metadata": {
        "id": "CeDeB7H-A5Oj"
      }
    },
    {
      "cell_type": "code",
      "source": [
        "!pip install git+https://github.com/tensorflow/docs"
      ],
      "metadata": {
        "id": "cUOIsVncQGib",
        "colab": {
          "base_uri": "https://localhost:8080/"
        },
        "outputId": "00f50891-65ee-424f-d5e1-90160370036f"
      },
      "execution_count": null,
      "outputs": [
        {
          "output_type": "stream",
          "name": "stdout",
          "text": [
            "Collecting git+https://github.com/tensorflow/docs\n",
            "  Cloning https://github.com/tensorflow/docs to /tmp/pip-req-build-bv6pnipg\n",
            "  Running command git clone -q https://github.com/tensorflow/docs /tmp/pip-req-build-bv6pnipg\n",
            "Requirement already satisfied: astor in /usr/local/lib/python3.7/dist-packages (from tensorflow-docs==0.0.0.dev0) (0.8.1)\n",
            "Requirement already satisfied: absl-py in /usr/local/lib/python3.7/dist-packages (from tensorflow-docs==0.0.0.dev0) (0.12.0)\n",
            "Requirement already satisfied: jinja2 in /usr/local/lib/python3.7/dist-packages (from tensorflow-docs==0.0.0.dev0) (2.11.3)\n",
            "Requirement already satisfied: protobuf>=3.14 in /usr/local/lib/python3.7/dist-packages (from tensorflow-docs==0.0.0.dev0) (3.17.3)\n",
            "Requirement already satisfied: pyyaml in /usr/local/lib/python3.7/dist-packages (from tensorflow-docs==0.0.0.dev0) (3.13)\n",
            "Requirement already satisfied: six>=1.9 in /usr/local/lib/python3.7/dist-packages (from protobuf>=3.14->tensorflow-docs==0.0.0.dev0) (1.15.0)\n",
            "Requirement already satisfied: MarkupSafe>=0.23 in /usr/local/lib/python3.7/dist-packages (from jinja2->tensorflow-docs==0.0.0.dev0) (2.0.1)\n"
          ]
        }
      ]
    },
    {
      "cell_type": "code",
      "source": [
        "#@title Import\n",
        "\n",
        "import numpy as np\n",
        "import pandas as pd\n",
        "import matplotlib.pyplot as plt\n",
        "from matplotlib import gridspec\n",
        "import math\n",
        "import random\n",
        "\n",
        "import os\n",
        "import pickle\n",
        "\n",
        "import tensorflow as tf\n",
        "from pathlib import Path\n",
        "from tensorflow.keras import applications, layers, losses, optimizers, metrics, Model, callbacks\n",
        "from tensorflow.keras.applications import resnet, mobilenet_v3\n",
        "from tensorflow.keras.preprocessing import image\n",
        "from tensorflow.keras.optimizers import SGD\n",
        "\n",
        "\n",
        "from pathlib import Path\n",
        "\n",
        "import tensorflow_docs as tfdocs\n",
        "import tensorflow_docs.modeling\n",
        "import tensorflow_docs.plots\n",
        "\n",
        "\n",
        "def set_seed(seed=42):\n",
        "    random.seed(seed)\n",
        "    np.random.seed(seed)\n",
        "    tf.random.set_seed(seed)\n",
        "    os.environ['PYTHONHASHSEED'] = str(seed)"
      ],
      "metadata": {
        "id": "WJyjcOIXQTWO",
        "cellView": "form"
      },
      "execution_count": null,
      "outputs": []
    },
    {
      "cell_type": "code",
      "source": [
        "#@title Load CSV\n",
        "\n",
        "train_df = pd.read_csv('DeepLearning20211/data/train.csv')\n",
        "test_df = pd.read_csv('DeepLearning20211/data/test.csv')\n",
        "\n",
        "train_img_dir = Path('DeepLearning20211/data/train_images')\n",
        "test_img_dir = Path('DeepLearning20211/data/test_images/')"
      ],
      "metadata": {
        "id": "0NZlAgwOQj9q",
        "cellView": "form"
      },
      "execution_count": null,
      "outputs": []
    },
    {
      "cell_type": "code",
      "source": [
        "#@title Drop images with duplicated p-hash value\n",
        "\n",
        "train_df = train_df.drop_duplicates(subset=['image_phash']).reset_index(drop=True)"
      ],
      "metadata": {
        "id": "3t5aEmV_RDm-",
        "cellView": "form"
      },
      "execution_count": null,
      "outputs": []
    },
    {
      "cell_type": "code",
      "source": [
        "#@title Plot class cardinality distribution\n",
        "\n",
        "# calculate number of images in each class\n",
        "label_count = train_df['label_group'].value_counts()\n",
        "\n",
        "plt.figure(figsize=(20, 6))\n",
        "label_count.value_counts().plot.bar()\n",
        "plt.xlabel('Class cardinality')\n",
        "plt.ylabel('Number of class')\n",
        "plt.title('Shopee Class cardinality distribution')\n",
        "plt.show()"
      ],
      "metadata": {
        "cellView": "form",
        "id": "w8c7i4HsoEeI"
      },
      "execution_count": null,
      "outputs": []
    },
    {
      "cell_type": "code",
      "source": [
        "#@title Create validation set\n",
        "val_df = train_df.sample(frac=1, random_state=14).groupby('label_group').nth(0)\n",
        "val_df['label_group'] = val_df.index\n",
        "val_df = val_df.reset_index(drop=True)"
      ],
      "metadata": {
        "id": "A8qZubQ5YHRv"
      },
      "execution_count": null,
      "outputs": []
    },
    {
      "cell_type": "markdown",
      "source": [
        "## Prepare dataset"
      ],
      "metadata": {
        "id": "G2uFtS8S6kM2"
      }
    },
    {
      "cell_type": "code",
      "source": [
        "#@title Take one instance in each class as anchor\n",
        "\n",
        "set_seed(42)\n",
        "anchor_df = train_df.groupby('label_group').nth(0)"
      ],
      "metadata": {
        "id": "RMaBhhzUvzcA"
      },
      "execution_count": null,
      "outputs": []
    },
    {
      "cell_type": "code",
      "source": [
        "num_triplets = 200"
      ],
      "metadata": {
        "id": "ildDalo7omg0"
      },
      "execution_count": null,
      "outputs": []
    },
    {
      "cell_type": "code",
      "source": [
        "def create_dataset(mode):\n",
        "    assert mode == 'training' or mode == 'validation', \"argument mode should be 'training' or 'validation'\" \n",
        "    df = train_df if mode == 'training' else val_df\n",
        "\n",
        "    # container to store image path\n",
        "    anchor_container = []\n",
        "    positive_container = []\n",
        "    negative_container = []\n",
        "\n",
        "    # for each anchor image, create num_triplets triplets\n",
        "    for anchor_label in anchor_df.index:\n",
        "        anchor = anchor_df['image'][anchor_label]\n",
        "\n",
        "        positive_df = df[df['label_group'] == anchor_label]\n",
        "        if len(positive_df) > 1:\n",
        "            positive_df = positive_df[positive_df['image'] != anchor]\n",
        "\n",
        "        negative_df = df.groupby('label_group').nth(0)\n",
        "        negative_df['label_group'] = negative_df.index\n",
        "        negative_df = negative_df.reset_index(drop=True)\n",
        "        negative_df = negative_df[negative_df['label_group'] != anchor_label]\n",
        "        for _ in range(num_triplets if mode == 'training' else 3):\n",
        "            anchor_container.append(str(train_img_dir) + os.sep + anchor)\n",
        "            positive_container.append(str(train_img_dir) + os.sep + np.squeeze(positive_df.sample(1)['image']))\n",
        "            negative_container.append(str(train_img_dir) + os.sep + np.squeeze(negative_df.sample(1)['image']))\n",
        "\n",
        "    return anchor_container, positive_container, negative_container"
      ],
      "metadata": {
        "id": "iT0Gb-nbIjA6"
      },
      "execution_count": null,
      "outputs": []
    },
    {
      "cell_type": "code",
      "source": [
        "# train_ds_raw = create_dataset(mode='training')\n",
        "# val_ds_raw = create_dataset(mode='validation')"
      ],
      "metadata": {
        "id": "wAYk5KOjS6VP"
      },
      "execution_count": null,
      "outputs": []
    },
    {
      "cell_type": "code",
      "source": [
        "# with open('DeepLearning20211/train_ds_raw.pkl', 'wb') as f:\n",
        "#     pickle.dump(train_ds_raw, f)\n",
        "\n",
        "# with open('DeepLearning20211/val_ds_raw.pkl', 'wb') as f:\n",
        "#     pickle.dump(val_ds_raw, f)"
      ],
      "metadata": {
        "id": "afwwOS41RA-p"
      },
      "execution_count": null,
      "outputs": []
    },
    {
      "cell_type": "code",
      "source": [
        "# with open('DeepLearning20211/train_ds_raw.pkl', 'rb') as f:\n",
        "#     train_ds_raw = pickle.load(f)\n",
        "\n",
        "# with open('DeepLearning20211/val_ds_raw.pkl', 'rb') as f:\n",
        "#     val_ds_raw = pickle.load(f)"
      ],
      "metadata": {
        "id": "H4cuUZ4TV9Jy"
      },
      "execution_count": null,
      "outputs": []
    },
    {
      "cell_type": "code",
      "source": [
        "with open('/content/drive/MyDrive/train_ds_raw.pkl', 'rb') as f:\n",
        "    train_ds_raw = pickle.load(f)\n",
        "\n",
        "with open('/content/drive/MyDrive/val_ds_raw.pkl', 'rb') as f:\n",
        "    val_ds_raw = pickle.load(f)"
      ],
      "metadata": {
        "id": "E6zJjXc8K8Ny"
      },
      "execution_count": null,
      "outputs": []
    },
    {
      "cell_type": "code",
      "source": [
        "train_ds = tf.data.Dataset.from_tensor_slices(train_ds_raw)\n",
        "val_ds = tf.data.Dataset.from_tensor_slices(val_ds_raw)"
      ],
      "metadata": {
        "id": "9XLkx0b57do4"
      },
      "execution_count": null,
      "outputs": []
    },
    {
      "cell_type": "code",
      "source": [
        "resize_and_scale = tf.keras.Sequential(\n",
        "    [\n",
        "     tf.keras.layers.Resizing(224, 224, crop_to_aspect_ratio=True),\n",
        "     tf.keras.layers.Rescaling(1./255)\n",
        "     ]\n",
        ")\n",
        "\n",
        "data_augmentation = tf.keras.Sequential(\n",
        "    [\n",
        "     tf.keras.layers.RandomFlip(\"vertical\"),\n",
        "     tf.keras.layers.RandomRotation(0.2),\n",
        "     tf.keras.layers.RandomContrast(0.5),\n",
        "     tf.keras.layers.RandomZoom((-0.2, 0.2)),\n",
        "     tf.keras.layers.RandomTranslation(0.14, 0.14),\n",
        "     ]\n",
        ")\n",
        "\n",
        "def filepath_to_img(filepath):\n",
        "    \n",
        "    img_string = tf.io.read_file(filepath)\n",
        "    img = tf.image.decode_jpeg(img_string)\n",
        "\n",
        "    img = tf.image.convert_image_dtype(img, tf.float32)\n",
        "    img = tf.image.resize(img, (224, 224))\n",
        "\n",
        "    # if augment:\n",
        "    #     img = data_augmentation(img)\n",
        "\n",
        "    # img = resize_and_scale(img)\n",
        "\n",
        "    return img\n",
        "\n",
        "def configure_dataset(ds, mode):\n",
        "    assert mode == 'training' or mode == 'validation', \"mode should be 'training' or 'validation'\" \n",
        "    \n",
        "    if mode == 'training':\n",
        "        ds = ds.shuffle(buffer_size=20000)\n",
        "    \n",
        "    ds = ds.map(lambda a_path, p_path, n_path: (filepath_to_img(a_path), \n",
        "                                                filepath_to_img(p_path), \n",
        "                                                filepath_to_img(n_path)), \n",
        "                num_parallel_calls=tf.data.AUTOTUNE)\n",
        "    ds = ds.prefetch(buffer_size=500)\n",
        "\n",
        "    # ds.map(lambda a, p, n: (resize_and_scale(a), resize_and_scale(p), resize_and_scale(n)), num_parallel_calls=tf.data.AUTOTUNE)\n",
        "\n",
        "    # if mode == 'validation':        ###############################\n",
        "    ds = ds.cache()\n",
        "\n",
        "    if mode == 'training':\n",
        "        ds = ds.map(lambda a, p, n: (a, \n",
        "                                     data_augmentation(p), \n",
        "                                     n), \n",
        "                    num_parallel_calls=tf.data.AUTOTUNE)\n",
        "    \n",
        "    if mode == 'training':\n",
        "        ds = ds.batch(32)\n",
        "    \n",
        "    return ds\n",
        "\n",
        "train_ds = configure_dataset(train_ds, mode='training')\n",
        "val_ds = configure_dataset(val_ds, mode='validation')\n"
      ],
      "metadata": {
        "id": "uJ7Bq0GUMCP9"
      },
      "execution_count": null,
      "outputs": []
    },
    {
      "cell_type": "code",
      "source": [
        "#@title Visualize some triplets\n",
        "\n",
        "ncols = 3\n",
        "nrows = 3\n",
        "plt.figure(figsize=(4*ncols, 4*nrows))\n",
        "spec = gridspec.GridSpec(ncols=ncols, nrows=nrows)\n",
        "for anchor_batch, positive_batch, negative_batch in train_ds.take(1):\n",
        "    i = 0\n",
        "    for anchor, positive, negative in zip(anchor_batch, positive_batch, negative_batch):\n",
        "        plt.subplot(spec[ncols*i])\n",
        "        plt.imshow(anchor)\n",
        "        plt.axis('off')\n",
        "        plt.subplot(spec[ncols*i + 1])\n",
        "        plt.imshow(positive)\n",
        "        plt.axis('off')\n",
        "        plt.subplot(spec[ncols*i + 2])\n",
        "        plt.imshow(negative)\n",
        "        plt.axis('off')\n",
        "        \n",
        "        i += 1\n",
        "        if i == nrows:\n",
        "            break\n",
        "plt.show()"
      ],
      "metadata": {
        "cellView": "form",
        "id": "C_Ke23HBFK-v"
      },
      "execution_count": null,
      "outputs": []
    },
    {
      "cell_type": "code",
      "source": [
        "# import shutil\n",
        "# shutil.rmtree(str(temp_dir), ignore_errors=True)"
      ],
      "metadata": {
        "id": "zkU51fPtt8h8"
      },
      "execution_count": null,
      "outputs": []
    },
    {
      "cell_type": "markdown",
      "source": [
        "## Setup model"
      ],
      "metadata": {
        "id": "KILeLz9iOWAy"
      }
    },
    {
      "cell_type": "code",
      "source": [
        "base_model = tf.keras.applications.MobileNetV3Large(weights='imagenet', input_shape=(224, 224, 3), include_top=False)\n",
        "\n",
        "output = layers.Flatten()(base_model.output)\n",
        "output = layers.Dense(512, activation='relu')(output)\n",
        "output = layers.BatchNormalization()(output)\n",
        "output = layers.Dense(256, activation='relu')(output)\n",
        "output = layers.BatchNormalization()(output)\n",
        "output = layers.Dense(256, activation='relu')(output)\n",
        "output = layers.BatchNormalization()(output)\n",
        "\n",
        "embedding = Model(base_model.input, output, name='Embedding')\n",
        "\n",
        "trainable = False\n",
        "for layer in base_model.layers:\n",
        "    if layer.name == 'multiply_15':\n",
        "        trainable = True\n",
        "    layer.trainable = trainable\n",
        "\n",
        "class Distance(layers.Layer):\n",
        "    def __init__(self, **kwargs):\n",
        "        super().__init__(**kwargs)\n",
        "\n",
        "    def call(self, anchor, positive, negative):\n",
        "        ap_distance = tf.reduce_sum(tf.square(anchor - positive), -1)\n",
        "        an_distance = tf.reduce_sum(tf.square(anchor - negative), -1)\n",
        "        return ap_distance, an_distance\n",
        "\n",
        "anchor_input = layers.Input(name='anchor', shape=(224, 224, 3))\n",
        "positive_input = layers.Input(name='positive', shape=(224, 224, 3))\n",
        "negative_input = layers.Input(name='negative', shape=(224, 224, 3))\n",
        "\n",
        "distances = Distance()(\n",
        "    embedding(mobilenet_v3.preprocess_input(anchor_input)),\n",
        "    embedding(mobilenet_v3.preprocess_input(positive_input)),\n",
        "    embedding(mobilenet_v3.preprocess_input(negative_input))\n",
        ")\n",
        "\n",
        "siamese_base = Model(\n",
        "    inputs=[anchor_input, positive_input, negative_input],\n",
        "    outputs=distances\n",
        ")\n",
        "\n",
        "class SiameseNet(Model):\n",
        "    \"\"\"\n",
        "    Siamese network with triplet loss:\n",
        "        L(A, P, N) = max(‖f(A) - f(P)‖² - ‖f(A) - f(N)‖² + margin, 0)\n",
        "    \"\"\"\n",
        "    def __init__(self, siamese_base, margin=0.5):\n",
        "        super(SiameseNet, self).__init__()\n",
        "        self.siamese_base = siamese_base\n",
        "        self.margin = margin\n",
        "        self.loss_tracker = metrics.Mean(name='loss')\n",
        "\n",
        "    def call(self, inputs):\n",
        "        return self.siamese_base(inputs)\n",
        "\n",
        "    @tf.function\n",
        "    def _compute_loss(self, data):\n",
        "        ap_distance, an_distance = self.siamese_base(data)\n",
        "        loss = tf.maximum(ap_distance + self.margin - an_distance, 0.0)\n",
        "        return loss\n",
        "\n",
        "    @tf.function\n",
        "    def train_step(self, data):\n",
        "        with tf.GradientTape() as tape:\n",
        "            loss = self._compute_loss(data)\n",
        "\n",
        "        gradients = tape.gradient(loss, self.siamese_base.trainable_weights)\n",
        "        self.optimizer.apply_gradients(zip(gradients, self.siamese_base.trainable_weights))\n",
        "        \n",
        "        self.loss_tracker.update_state(loss)\n",
        "        return {'loss': self.loss_tracker.result()}\n",
        "\n",
        "    @tf.function\n",
        "    def test_step(self, data):\n",
        "        loss = self._compute_loss(data)\n",
        "        self.loss_tracker.update_state(loss)\n",
        "        return {'loss': self.loss_tracker.result()}\n",
        "\n",
        "    @property\n",
        "    def metrics(self):\n",
        "        # list our metrics here so the `reset_states()` can be called automatically.\n",
        "        return [self.loss_tracker]\n",
        "\n"
      ],
      "metadata": {
        "id": "JeaSzkDi_x-O"
      },
      "execution_count": 23,
      "outputs": []
    },
    {
      "cell_type": "code",
      "source": [
        "model = SiameseNet(siamese_base)\n",
        "model.compile(optimizer=SGD(learning_rate=1e-5, momentum=0.9, nesterov=True))\n",
        "model.fit(train_ds, epochs=2, validation_data=val_ds, shuffle=True)"
      ],
      "metadata": {
        "colab": {
          "base_uri": "https://localhost:8080/"
        },
        "id": "XF3xflRKG4CD",
        "outputId": "35a39d17-9835-44a7-8899-37f173b44d5d"
      },
      "execution_count": null,
      "outputs": [
        {
          "output_type": "stream",
          "name": "stdout",
          "text": [
            "Epoch 1/2\n",
            "   45/68775 [..............................] - ETA: 26:58:21 - loss: 0.4866"
          ]
        }
      ]
    },
    {
      "cell_type": "code",
      "source": [
        "models = {}\n",
        "epoch_record = {}\n",
        "histories = {}"
      ],
      "metadata": {
        "id": "9Xynu97nIgY7"
      },
      "execution_count": null,
      "outputs": []
    },
    {
      "cell_type": "code",
      "source": [
        "def remove_model(name):\n",
        "    try:\n",
        "        del models[name]\n",
        "        del histories[name]\n",
        "        del epoch_record[name]\n",
        "    except:\n",
        "        pass\n",
        "\n",
        "def train_model(model, optimizer, max_epochs, reduce_lr_patience, early_stop_patience, checkpoint_name):\n",
        "\n",
        "    callbacks = [\n",
        "                 tf.keras.callbacks.ReduceLROnPlateau(monitor='loss', factor=0.1, patience=reduce_lr_patience, verbose=1),\n",
        "                 tf.keras.callbacks.EarlyStopping(monitor='val_loss', patience=early_stop_patience, verbose=1),\n",
        "                #  tf.keras.callbacks.TensorBoard(logdir/model.name)\n",
        "                ]\n",
        "    if checkpoint_name is not None:\n",
        "        callbacks.append(tf.keras.callbacks.ModelCheckpoint(filepath='/content/drive/MyDrive/checkpoint/{}.hdf5'.format(checkpoint_name), monitor='val_loss', verbose=1, save_best_only=True))\n",
        "    \n",
        "    # shutil.rmtree(logdir/name, ignore_errors=True)     \n",
        "\n",
        "    new_model = True\n",
        "    if model.name in histories.keys() and input(\"'{}' already exists. Override? [y/n] \".format(model.name)) != 'y':\n",
        "        new_model = False\n",
        "    \n",
        "    set_seed()\n",
        "\n",
        "    if new_model:\n",
        "        model.compile(\n",
        "            optimizer=optimizer,\n",
        "        )\n",
        "        histories[model.name] = model.fit(\n",
        "            train_ds,\n",
        "            steps_per_epoch=train_ds.cardinality().numpy(),     ############### <----- numpy() to avoid error\n",
        "            epochs=max_epochs,\n",
        "            validation_data=val_ds,\n",
        "            callbacks=callbacks,\n",
        "            shuffle=True\n",
        "        )\n",
        "        epoch_record[model.name] = [histories[model.name].epoch[-1]]\n",
        "\n",
        "    else:\n",
        "        model.optimizer.learning_rate.assign(optimizer.get_config()['learning_rate'])\n",
        "        cont_history = model.fit(\n",
        "            train_ds, \n",
        "            steps_per_epoch=train_ds.cardinality().numpy(),     ############### <----- numpy() to avoid error\n",
        "            epochs=max_epochs,     \n",
        "            validation_data=val_ds,    \n",
        "            callbacks=callbacks,\n",
        "            initial_epoch=histories[model.name].epoch[-1] + 1,\n",
        "            shuffle=True\n",
        "        )\n",
        "        epoch_record[model.name].append(cont_history.epoch[-1])\n",
        "        histories[model.name].epoch += cont_history.epoch\n",
        "        histories[model.name].history['loss'] += cont_history.history['loss']\n",
        "        histories[model.name].history['val_loss'] += cont_history.history['val_loss']\n",
        "\n",
        "    return model.name\n",
        "\n",
        "\n",
        "plotter = tfdocs.plots.HistoryPlotter( \n",
        "    # metric = 'nonregu_mae',\n",
        "    # smoothing_std=10\n",
        ")"
      ],
      "metadata": {
        "id": "MFMDXMUrIkRB"
      },
      "execution_count": null,
      "outputs": []
    },
    {
      "cell_type": "markdown",
      "source": [
        "## Depricated"
      ],
      "metadata": {
        "id": "rsW7TaWP6fEB"
      }
    },
    {
      "cell_type": "code",
      "source": [
        "#@title Depricated\n",
        "\n",
        "min_cardinality = 4\n",
        "max_cardinality = label_count.max()         # 39 in this dataset\n",
        "augmented_list = []\n",
        "\n",
        "progress = 0\n",
        "for i in range(len(train_df)):\n",
        "    # ten file: train_df.iloc[i]['image']\n",
        "    # label_count[train_df.iloc[i]['label_group']]\n",
        "    label_group = train_df.iloc[i]['label_group']\n",
        "    class_cardinality = label_count[label_group]\n",
        "    if class_cardinality < min_cardinality:\n",
        "        progress += 1\n",
        "        print(progress)\n",
        "        img = image.load_img(train_img_dir/train_df.iloc[i]['image'])\n",
        "        img = image.img_to_array(img)\n",
        "        num_augmentation = math.ceil((min_cardinality - class_cardinality) / class_cardinality)\n",
        "        for _ in range(num_augmentation):\n",
        "            name = train_df.iloc[i]['image'][:-4] + '_AUGMENTED_' + str(_) + '.jpg'\n",
        "            augmented_img = data_augmentation(img)\n",
        "            image.save_img(train_img_dir/name, augmented_img)\n",
        "            augmented_list.append({'image': name, 'label_group': label_group})\n"
      ],
      "metadata": {
        "cellView": "form",
        "id": "FKSS-y7cVoQC"
      },
      "execution_count": null,
      "outputs": []
    },
    {
      "cell_type": "code",
      "source": [
        "augmented_train_df = train_df.append(augmented_list, ignore_index=True)"
      ],
      "metadata": {
        "id": "tQb-GkphxQ8O"
      },
      "execution_count": null,
      "outputs": []
    },
    {
      "cell_type": "code",
      "source": [
        "#@title Plot class cardinality distribution after augmentation\n",
        "\n",
        "# calculate number of images in each class\n",
        "augmented_label_count = augmented_train_df['label_group'].value_counts()\n",
        "\n",
        "plt.figure(figsize=(20, 6))\n",
        "augmented_label_count.value_counts().plot.bar()\n",
        "plt.xlabel('Class cardinality')\n",
        "plt.ylabel('Number of class')\n",
        "plt.title('Shopee Class cardinality distribution after augmented')\n",
        "plt.show()"
      ],
      "metadata": {
        "cellView": "form",
        "colab": {
          "base_uri": "https://localhost:8080/"
        },
        "id": "IHsV_n0LIuUa",
        "outputId": "f8e71c5b-01d0-40aa-b098-33dba21fce79"
      },
      "execution_count": null,
      "outputs": [
        {
          "output_type": "display_data",
          "data": {
            "image/png": "[encoded data removed]",
            "text/plain": [
              "<Figure size 1440x432 with 1 Axes>"
            ]
          },
          "metadata": {
            "needs_background": "light"
          }
        }
      ]
    }
  ]
}