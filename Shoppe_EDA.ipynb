{
  "nbformat": 4,
  "nbformat_minor": 0,
  "metadata": {
    "colab": {
      "name": "Shoppe-EDA.ipynb",
      "provenance": [],
      "authorship_tag": "ABX9TyNOllFt3KE1Jpm60jGo2mi4",
      "include_colab_link": true
    },
    "kernelspec": {
      "name": "python3",
      "display_name": "Python 3"
    },
    "language_info": {
      "name": "python"
    }
  },
  "cells": [
    {
      "cell_type": "markdown",
      "metadata": {
        "id": "view-in-github",
        "colab_type": "text"
      },
      "source": [
        "<a href=\"https://colab.research.google.com/github/calibretaliation/DeepLearning20211/blob/main/Shoppe_EDA.ipynb\" target=\"_parent\"><img src=\"https://colab.research.google.com/assets/colab-badge.svg\" alt=\"Open In Colab\"/></a>"
      ]
    },
    {
      "cell_type": "code",
      "metadata": {
        "id": "FbVBaTo_Iiae"
      },
      "source": [
        "!git clone https://github.com/calibretaliation/DeepLearning20211.git"
      ],
      "execution_count": null,
      "outputs": []
    }
  ]
}