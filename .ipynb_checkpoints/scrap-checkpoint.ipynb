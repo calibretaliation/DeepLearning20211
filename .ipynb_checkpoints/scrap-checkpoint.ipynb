{
 "cells": [
  {
   "cell_type": "code",
   "execution_count": 89,
   "id": "73532530",
   "metadata": {},
   "outputs": [],
   "source": [
    "import random\n",
    "import os\n",
    "import numpy as np\n",
    "import pandas as pd\n",
    "import matplotlib.pyplot as plt\n",
    "import cv2\n",
    "\n",
    "import torch\n",
    "from torch.utils.data import Dataset, DataLoader\n",
    "from torchvision import transforms\n",
    "from torchvision.io import read_image\n",
    "train_img_path = './data/preprocessing/minhat/train_images'\n",
    "test_img_path = './data/preprocessing/minhat/test_images'\n",
    "train_df = pd.read_csv('./data/preprocessing/minhat/train.csv')\n",
    "test_df = pd.read_csv('./data/preprocessing/minhat/test.csv')"
   ]
  },
  {
   "cell_type": "code",
   "execution_count": 93,
   "id": "207a159a",
   "metadata": {},
   "outputs": [
    {
     "data": {
      "text/html": [
       "<div>\n",
       "<style scoped>\n",
       "    .dataframe tbody tr th:only-of-type {\n",
       "        vertical-align: middle;\n",
       "    }\n",
       "\n",
       "    .dataframe tbody tr th {\n",
       "        vertical-align: top;\n",
       "    }\n",
       "\n",
       "    .dataframe thead th {\n",
       "        text-align: right;\n",
       "    }\n",
       "</style>\n",
       "<table border=\"1\" class=\"dataframe\">\n",
       "  <thead>\n",
       "    <tr style=\"text-align: right;\">\n",
       "      <th></th>\n",
       "      <th>posting_id</th>\n",
       "      <th>image</th>\n",
       "      <th>image_phash</th>\n",
       "      <th>title</th>\n",
       "      <th>label_group</th>\n",
       "      <th>img_path</th>\n",
       "    </tr>\n",
       "  </thead>\n",
       "  <tbody>\n",
       "    <tr>\n",
       "      <th>0</th>\n",
       "      <td>train_129225211</td>\n",
       "      <td>0000a68812bc7e98c42888dfb1c07da0.jpg</td>\n",
       "      <td>94974f937d4c2433</td>\n",
       "      <td>Paper Bag Victoria Secret</td>\n",
       "      <td>249114794</td>\n",
       "      <td>./data/preprocessing/minhat/train_images/0000a...</td>\n",
       "    </tr>\n",
       "    <tr>\n",
       "      <th>1</th>\n",
       "      <td>train_3386243561</td>\n",
       "      <td>00039780dfc94d01db8676fe789ecd05.jpg</td>\n",
       "      <td>af3f9460c2838f0f</td>\n",
       "      <td>Double Tape 3M VHB 12 mm x 4,5 m ORIGINAL / DO...</td>\n",
       "      <td>2937985045</td>\n",
       "      <td>./data/preprocessing/minhat/train_images/00039...</td>\n",
       "    </tr>\n",
       "    <tr>\n",
       "      <th>2</th>\n",
       "      <td>train_2288590299</td>\n",
       "      <td>000a190fdd715a2a36faed16e2c65df7.jpg</td>\n",
       "      <td>b94cb00ed3e50f78</td>\n",
       "      <td>Maling TTS Canned Pork Luncheon Meat 397 gr</td>\n",
       "      <td>2395904891</td>\n",
       "      <td>./data/preprocessing/minhat/train_images/000a1...</td>\n",
       "    </tr>\n",
       "    <tr>\n",
       "      <th>3</th>\n",
       "      <td>train_2406599165</td>\n",
       "      <td>00117e4fc239b1b641ff08340b429633.jpg</td>\n",
       "      <td>8514fc58eafea283</td>\n",
       "      <td>Daster Batik Lengan pendek - Motif Acak / Camp...</td>\n",
       "      <td>4093212188</td>\n",
       "      <td>./data/preprocessing/minhat/train_images/00117...</td>\n",
       "    </tr>\n",
       "    <tr>\n",
       "      <th>4</th>\n",
       "      <td>train_3369186413</td>\n",
       "      <td>00136d1cf4edede0203f32f05f660588.jpg</td>\n",
       "      <td>a6f319f924ad708c</td>\n",
       "      <td>Nescafe \\xc3\\x89clair Latte 220ml</td>\n",
       "      <td>3648931069</td>\n",
       "      <td>./data/preprocessing/minhat/train_images/00136...</td>\n",
       "    </tr>\n",
       "  </tbody>\n",
       "</table>\n",
       "</div>"
      ],
      "text/plain": [
       "         posting_id                                 image       image_phash  \\\n",
       "0   train_129225211  0000a68812bc7e98c42888dfb1c07da0.jpg  94974f937d4c2433   \n",
       "1  train_3386243561  00039780dfc94d01db8676fe789ecd05.jpg  af3f9460c2838f0f   \n",
       "2  train_2288590299  000a190fdd715a2a36faed16e2c65df7.jpg  b94cb00ed3e50f78   \n",
       "3  train_2406599165  00117e4fc239b1b641ff08340b429633.jpg  8514fc58eafea283   \n",
       "4  train_3369186413  00136d1cf4edede0203f32f05f660588.jpg  a6f319f924ad708c   \n",
       "\n",
       "                                               title  label_group  \\\n",
       "0                          Paper Bag Victoria Secret    249114794   \n",
       "1  Double Tape 3M VHB 12 mm x 4,5 m ORIGINAL / DO...   2937985045   \n",
       "2        Maling TTS Canned Pork Luncheon Meat 397 gr   2395904891   \n",
       "3  Daster Batik Lengan pendek - Motif Acak / Camp...   4093212188   \n",
       "4                  Nescafe \\xc3\\x89clair Latte 220ml   3648931069   \n",
       "\n",
       "                                            img_path  \n",
       "0  ./data/preprocessing/minhat/train_images/0000a...  \n",
       "1  ./data/preprocessing/minhat/train_images/00039...  \n",
       "2  ./data/preprocessing/minhat/train_images/000a1...  \n",
       "3  ./data/preprocessing/minhat/train_images/00117...  \n",
       "4  ./data/preprocessing/minhat/train_images/00136...  "
      ]
     },
     "execution_count": 93,
     "metadata": {},
     "output_type": "execute_result"
    }
   ],
   "source": [
    "#Create metadata frame for looping\n",
    "train_df['img_path'] = train_img_path + '/' + train_df.image\n",
    "test_df['img_path'] = test_img_path + '/' + test_df.image\n",
    "train_df.head()"
   ]
  },
  {
   "cell_type": "code",
   "execution_count": 82,
   "id": "980b84ac",
   "metadata": {},
   "outputs": [
    {
     "data": {
      "text/plain": [
       "fad28daa2ad05595    26\n",
       "d0c0ea37bd9acce0    20\n",
       "be12e12f9ec1e198    17\n",
       "e992966d4ba49761    16\n",
       "f6d98134b904b56b    16\n",
       "                    ..\n",
       "a6f90c9e139699a6     1\n",
       "be24c1dba70cf18c     1\n",
       "b39ac1e194c24bbe     1\n",
       "eec0ed1ec2f39411     1\n",
       "af8bc4b2d2cf9083     1\n",
       "Name: image_phash, Length: 28735, dtype: int64"
      ]
     },
     "execution_count": 82,
     "metadata": {},
     "output_type": "execute_result"
    }
   ],
   "source": [
    "#Delete images with same phash, only keep one image \n",
    "phash_list = train_df.image_phash.value_counts()\n",
    "phash_list"
   ]
  },
  {
   "cell_type": "code",
   "execution_count": 102,
   "id": "fe9f86ca",
   "metadata": {},
   "outputs": [
    {
     "name": "stdout",
     "output_type": "stream",
     "text": [
      "D:\\git\\DeepLearning20211/data/preprocessing/minhat/train_images/04a00bccb7f1560e755f5f1def73db59.jpg\n",
      "D:\\git\\DeepLearning20211/data/preprocessing/minhat/train_images/0f459b1e8aa89ee9e79b2ec95440e9c3.jpg\n",
      "D:\\git\\DeepLearning20211/data/preprocessing/minhat/train_images/0f459b1e8aa89ee9e79b2ec95440e9c3.jpg\n",
      "D:\\git\\DeepLearning20211/data/preprocessing/minhat/train_images/1dbf735adb93d54e6340af02f9b5472e.jpg\n",
      "D:\\git\\DeepLearning20211/data/preprocessing/minhat/train_images/1dbf735adb93d54e6340af02f9b5472e.jpg\n",
      "D:\\git\\DeepLearning20211/data/preprocessing/minhat/train_images/2cd540e8c1810d1d1aaf3d73b8116cdc.jpg\n",
      "D:\\git\\DeepLearning20211/data/preprocessing/minhat/train_images/43af52158ed9acd8274a7d6d6c109dfc.jpg\n",
      "D:\\git\\DeepLearning20211/data/preprocessing/minhat/train_images/50ef370271e8c7e00eaaf018c9cd93dd.jpg\n",
      "D:\\git\\DeepLearning20211/data/preprocessing/minhat/train_images/5c1e0f695fb5ab7b0d83de0fef4bfdaf.jpg\n",
      "D:\\git\\DeepLearning20211/data/preprocessing/minhat/train_images/8591ed8b5bc268e386a66206bb233b2f.jpg\n",
      "D:\\git\\DeepLearning20211/data/preprocessing/minhat/train_images/9ce299d95fb2a89ff4ecb207cb4f0fe6.jpg\n",
      "D:\\git\\DeepLearning20211/data/preprocessing/minhat/train_images/a75890cf09d9c9487ee3530d856ab456.jpg\n",
      "D:\\git\\DeepLearning20211/data/preprocessing/minhat/train_images/b6b351c0f1187f86689ec203859f86a7.jpg\n",
      "D:\\git\\DeepLearning20211/data/preprocessing/minhat/train_images/c13a9c475a18cc5b73c5003d10084e6d.jpg\n",
      "D:\\git\\DeepLearning20211/data/preprocessing/minhat/train_images/c791b68707f380c959c19569ff4746d2.jpg\n",
      "D:\\git\\DeepLearning20211/data/preprocessing/minhat/train_images/ccec47f17a3d740f9bdd9fe695a14b62.jpg\n",
      "D:\\git\\DeepLearning20211/data/preprocessing/minhat/train_images/ccec47f17a3d740f9bdd9fe695a14b62.jpg\n",
      "D:\\git\\DeepLearning20211/data/preprocessing/minhat/train_images/cf718bef78980e0e8b250e7ce96a10ce.jpg\n",
      "D:\\git\\DeepLearning20211/data/preprocessing/minhat/train_images/dbdc85177d752dbbfd5b9e8b1dfe51bf.jpg\n",
      "D:\\git\\DeepLearning20211/data/preprocessing/minhat/train_images/e749e5b1ef5b1b2d74fa9bdcb37e7ba7.jpg\n",
      "D:\\git\\DeepLearning20211/data/preprocessing/minhat/train_images/f295135f60f6932599306d338c872efd.jpg\n",
      "D:\\git\\DeepLearning20211/data/preprocessing/minhat/train_images/f9dc2cf9ed811fec7cbc9d5120638f0c.jpg\n",
      "D:\\git\\DeepLearning20211/data/preprocessing/minhat/train_images/f9dc2cf9ed811fec7cbc9d5120638f0c.jpg\n",
      "D:\\git\\DeepLearning20211/data/preprocessing/minhat/train_images/f9dc2cf9ed811fec7cbc9d5120638f0c.jpg\n",
      "D:\\git\\DeepLearning20211/data/preprocessing/minhat/train_images/f9dc2cf9ed811fec7cbc9d5120638f0c.jpg\n"
     ]
    }
   ],
   "source": [
    "cwd = os.getcwd()\n",
    "for phash in phash_list.index:\n",
    "    if phash_list[phash] > 20:\n",
    "        img_list = train_df.loc[train_df['image_phash'] == phash]\n",
    "        for image in img_list.img_path[:-1]:\n",
    "            os.(cwd + image[1:])    "
   ]
  },
  {
   "cell_type": "code",
   "execution_count": null,
   "id": "94d24ae3",
   "metadata": {},
   "outputs": [],
   "source": []
  }
 ],
 "metadata": {
  "kernelspec": {
   "display_name": "Python [conda env:OpenCV] *",
   "language": "python",
   "name": "conda-env-OpenCV-py"
  },
  "language_info": {
   "codemirror_mode": {
    "name": "ipython",
    "version": 3
   },
   "file_extension": ".py",
   "mimetype": "text/x-python",
   "name": "python",
   "nbconvert_exporter": "python",
   "pygments_lexer": "ipython3",
   "version": "3.8.12"
  }
 },
 "nbformat": 4,
 "nbformat_minor": 5
}
