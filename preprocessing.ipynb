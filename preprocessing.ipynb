{
  "nbformat": 4,
  "nbformat_minor": 0,
  "metadata": {
    "colab": {
      "name": "Untitled0.ipynb",
      "provenance": [],
      "authorship_tag": "ABX9TyPuYnCFDJS1PjZRMxgD6lct"
    },
    "kernelspec": {
      "name": "python3",
      "display_name": "Python 3"
    },
    "language_info": {
      "name": "python"
    }
  },
  "cells": [
    {
      "cell_type": "code",
      "metadata": {
        "id": "HbjfvShmblhj",
        "outputId": "7ae339f8-199e-48fb-c016-e1a785710f3f",
        "colab": {
          "base_uri": "https://localhost:8080/"
        }
      },
      "source": [
        "!git clone https://github.com/calibretaliation/DeepLearning20211.git"
      ],
      "execution_count": 1,
      "outputs": [
        {
          "output_type": "stream",
          "name": "stdout",
          "text": [
            "Cloning into 'DeepLearning20211'...\n",
            "remote: Enumerating objects: 32440, done.\u001b[K\n",
            "remote: Counting objects: 100% (3/3), done.\u001b[K\n",
            "remote: Compressing objects: 100% (3/3), done.\u001b[K\n",
            "remote: Total 32440 (delta 0), reused 0 (delta 0), pack-reused 32437\u001b[K\n",
            "Receiving objects: 100% (32440/32440), 1.68 GiB | 32.52 MiB/s, done.\n",
            "Resolving deltas: 100% (45/45), done.\n",
            "Checking out files: 100% (32421/32421), done.\n"
          ]
        }
      ]
    },
    {
      "cell_type": "code",
      "metadata": {
        "id": "d3l4-irSdvLQ"
      },
      "source": [
        "import numpy as np\n",
        "import pandas as pd\n",
        "import matplotlib.pyplot as plt\n",
        "import cv2\n",
        "\n",
        "import torch\n",
        "from torch.utils.data import Dataset, DataLoader"
      ],
      "execution_count": 8,
      "outputs": []
    },
    {
      "cell_type": "code",
      "metadata": {
        "id": "q05Ek_dre2jg"
      },
      "source": [
        "train_df = pd.read_csv('/content/DeepLearning20211/data/train.csv')\n",
        "test_df = pd.read_csv('/content/DeepLearning20211/data/test.csv')"
      ],
      "execution_count": 3,
      "outputs": []
    },
    {
      "cell_type": "code",
      "metadata": {
        "id": "SCJF8vLFe2hU",
        "outputId": "5455d668-672f-4c3e-c14d-90e5590d6fc0",
        "colab": {
          "base_uri": "https://localhost:8080/",
          "height": 255
        }
      },
      "source": [
        "train_df.head()"
      ],
      "execution_count": 4,
      "outputs": [
        {
          "output_type": "execute_result",
          "data": {
            "text/html": [
              "<div>\n",
              "<style scoped>\n",
              "    .dataframe tbody tr th:only-of-type {\n",
              "        vertical-align: middle;\n",
              "    }\n",
              "\n",
              "    .dataframe tbody tr th {\n",
              "        vertical-align: top;\n",
              "    }\n",
              "\n",
              "    .dataframe thead th {\n",
              "        text-align: right;\n",
              "    }\n",
              "</style>\n",
              "<table border=\"1\" class=\"dataframe\">\n",
              "  <thead>\n",
              "    <tr style=\"text-align: right;\">\n",
              "      <th></th>\n",
              "      <th>posting_id</th>\n",
              "      <th>image</th>\n",
              "      <th>image_phash</th>\n",
              "      <th>title</th>\n",
              "      <th>label_group</th>\n",
              "    </tr>\n",
              "  </thead>\n",
              "  <tbody>\n",
              "    <tr>\n",
              "      <th>0</th>\n",
              "      <td>train_129225211</td>\n",
              "      <td>0000a68812bc7e98c42888dfb1c07da0.jpg</td>\n",
              "      <td>94974f937d4c2433</td>\n",
              "      <td>Paper Bag Victoria Secret</td>\n",
              "      <td>249114794</td>\n",
              "    </tr>\n",
              "    <tr>\n",
              "      <th>1</th>\n",
              "      <td>train_3386243561</td>\n",
              "      <td>00039780dfc94d01db8676fe789ecd05.jpg</td>\n",
              "      <td>af3f9460c2838f0f</td>\n",
              "      <td>Double Tape 3M VHB 12 mm x 4,5 m ORIGINAL / DO...</td>\n",
              "      <td>2937985045</td>\n",
              "    </tr>\n",
              "    <tr>\n",
              "      <th>2</th>\n",
              "      <td>train_2288590299</td>\n",
              "      <td>000a190fdd715a2a36faed16e2c65df7.jpg</td>\n",
              "      <td>b94cb00ed3e50f78</td>\n",
              "      <td>Maling TTS Canned Pork Luncheon Meat 397 gr</td>\n",
              "      <td>2395904891</td>\n",
              "    </tr>\n",
              "    <tr>\n",
              "      <th>3</th>\n",
              "      <td>train_2406599165</td>\n",
              "      <td>00117e4fc239b1b641ff08340b429633.jpg</td>\n",
              "      <td>8514fc58eafea283</td>\n",
              "      <td>Daster Batik Lengan pendek - Motif Acak / Camp...</td>\n",
              "      <td>4093212188</td>\n",
              "    </tr>\n",
              "    <tr>\n",
              "      <th>4</th>\n",
              "      <td>train_3369186413</td>\n",
              "      <td>00136d1cf4edede0203f32f05f660588.jpg</td>\n",
              "      <td>a6f319f924ad708c</td>\n",
              "      <td>Nescafe \\xc3\\x89clair Latte 220ml</td>\n",
              "      <td>3648931069</td>\n",
              "    </tr>\n",
              "  </tbody>\n",
              "</table>\n",
              "</div>"
            ],
            "text/plain": [
              "         posting_id  ... label_group\n",
              "0   train_129225211  ...   249114794\n",
              "1  train_3386243561  ...  2937985045\n",
              "2  train_2288590299  ...  2395904891\n",
              "3  train_2406599165  ...  4093212188\n",
              "4  train_3369186413  ...  3648931069\n",
              "\n",
              "[5 rows x 5 columns]"
            ]
          },
          "metadata": {},
          "execution_count": 4
        }
      ]
    },
    {
      "cell_type": "code",
      "metadata": {
        "id": "QOVPU7O3jU3V",
        "outputId": "452ea43c-1400-488c-8db3-9702019ef1cf",
        "colab": {
          "base_uri": "https://localhost:8080/"
        }
      },
      "source": [
        "len(train_df)"
      ],
      "execution_count": 7,
      "outputs": [
        {
          "output_type": "execute_result",
          "data": {
            "text/plain": [
              "34250"
            ]
          },
          "metadata": {},
          "execution_count": 7
        }
      ]
    },
    {
      "cell_type": "code",
      "metadata": {
        "id": "9ThnUkhjjU1P"
      },
      "source": [
        "train_img_path = '/content/DeepLearning20211/data/train_images'\n",
        "test_img_path = '/content/DeepLearning20211/data/test_images'"
      ],
      "execution_count": 11,
      "outputs": []
    },
    {
      "cell_type": "code",
      "metadata": {
        "id": "nw95a57Vgw1z",
        "outputId": "e2dd10bf-382f-4166-a1e9-0b4c46430928",
        "colab": {
          "base_uri": "https://localhost:8080/"
        }
      },
      "source": [
        "class ShopeeDataset(Dataset):\n",
        "\n",
        "    def __init__(self, dataframe, dir_path, target_size):\n",
        "        self.dataframe = dataframe\n",
        "        self.dir_path = dir_path\n",
        "        self.target_size = target_size\n",
        "\n",
        "    def __len__(self):\n",
        "        return len(self.dataframe)\n",
        "\n",
        "    def __getitem__(self, index):\n",
        "        img_info = self.dataframe.iloc[index]\n",
        "        img = cv2.imread(self.dir_path + '/' + img_info['image'])\n",
        "        img = cv2.resize(img, self.target_size)\n",
        "        img = torch.from_numpy(img)\n",
        "        img = img.permute(2, 0, 1)\n",
        "        \n",
        "        label = torch.tensor([img_info['label_group']])\n",
        "        return img, label\n",
        "\n",
        "ShopeeDataset(train_df, train_img_path, (28, 28))[1]"
      ],
      "execution_count": 28,
      "outputs": [
        {
          "output_type": "execute_result",
          "data": {
            "text/plain": [
              "(tensor([[[255, 255, 255,  ..., 255, 255, 255],\n",
              "          [255, 255, 255,  ..., 255, 255, 255],\n",
              "          [255, 255, 255,  ..., 255, 255, 255],\n",
              "          ...,\n",
              "          [255, 255, 255,  ..., 255, 255, 255],\n",
              "          [255, 255, 255,  ..., 255, 255, 255],\n",
              "          [255, 255, 255,  ..., 255, 255, 255]],\n",
              " \n",
              "         [[255, 255, 255,  ..., 255, 255, 255],\n",
              "          [255, 255, 255,  ..., 255, 255, 255],\n",
              "          [255, 255, 255,  ..., 255, 255, 255],\n",
              "          ...,\n",
              "          [255, 255, 255,  ..., 255, 255, 255],\n",
              "          [255, 255, 255,  ..., 255, 255, 255],\n",
              "          [255, 255, 255,  ..., 255, 255, 255]],\n",
              " \n",
              "         [[255, 255, 255,  ..., 255, 255, 255],\n",
              "          [255, 255, 255,  ..., 255, 255, 255],\n",
              "          [255, 255, 255,  ..., 255, 255, 255],\n",
              "          ...,\n",
              "          [255, 255, 255,  ..., 255, 255, 255],\n",
              "          [255, 255, 255,  ..., 255, 255, 255],\n",
              "          [255, 255, 255,  ..., 255, 255, 255]]], dtype=torch.uint8),\n",
              " tensor([2937985045]))"
            ]
          },
          "metadata": {},
          "execution_count": 28
        }
      ]
    },
    {
      "cell_type": "code",
      "metadata": {
        "id": "EZBWlQphmNMz",
        "outputId": "bd44a7b4-f1d6-456e-f5c2-0dd575cffb6b",
        "colab": {
          "base_uri": "https://localhost:8080/"
        }
      },
      "source": [
        ""
      ],
      "execution_count": 18,
      "outputs": [
        {
          "output_type": "stream",
          "name": "stdout",
          "text": [
            "None\n"
          ]
        }
      ]
    }
  ]
}